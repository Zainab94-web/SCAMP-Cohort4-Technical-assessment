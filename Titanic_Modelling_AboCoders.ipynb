{
  "nbformat": 4,
  "nbformat_minor": 0,
  "metadata": {
    "kernelspec": {
      "display_name": "Python 3",
      "language": "python",
      "name": "python3"
    },
    "language_info": {
      "codemirror_mode": {
        "name": "ipython",
        "version": 3
      },
      "file_extension": ".py",
      "mimetype": "text/x-python",
      "name": "python",
      "nbconvert_exporter": "python",
      "pygments_lexer": "ipython3",
      "version": "3.7.0"
    },
    "colab": {
      "name": "Titanic_Modelling_AboCoders.ipynb",
      "provenance": [],
      "collapsed_sections": [],
      "include_colab_link": true
    }
  },
  "cells": [
    {
      "cell_type": "markdown",
      "metadata": {
        "id": "view-in-github",
        "colab_type": "text"
      },
      "source": [
        "<a href=\"https://colab.research.google.com/github/Zainab94-web/SCAMP-Cohort4-Technical-assessment/blob/master/Titanic_Modelling_AboCoders.ipynb\" target=\"_parent\"><img src=\"https://colab.research.google.com/assets/colab-badge.svg\" alt=\"Open In Colab\"/></a>"
      ]
    },
    {
      "cell_type": "markdown",
      "metadata": {
        "id": "zLT1eWF53oJQ"
      },
      "source": [
        "##### **Brief History**\n",
        "\n",
        "Titanic is one of the most infamous shipwrecks in history. On April 15, 1912, during her maiden voyage, the Titanic sank after colliding with an iceberg, killing 1502 out of 2224 passengers and crew. This sensational tragedy shocked the international community and led to better safety regulations for ships."
      ]
    },
    {
      "cell_type": "markdown",
      "metadata": {
        "id": "zA430j3Z3oJY"
      },
      "source": [
        "### Importing our libraries"
      ]
    },
    {
      "cell_type": "code",
      "metadata": {
        "id": "QllcPsES3oJZ"
      },
      "source": [
        "#data analysis libraries\n",
        "import numpy as np\n",
        "import pandas as pd\n",
        "\n",
        "#visualization libraries\n",
        "import matplotlib.pyplot as plt\n",
        "import seaborn as sns\n",
        "\n",
        "#this is to ignore warning messages that often display\n",
        "import warnings\n",
        "warnings.filterwarnings('ignore')"
      ],
      "execution_count": 7,
      "outputs": []
    },
    {
      "cell_type": "markdown",
      "metadata": {
        "id": "W-_RwmDD3oJa"
      },
      "source": [
        "### Reading in the dataset"
      ]
    },
    {
      "cell_type": "code",
      "metadata": {
        "id": "INw8-l5W3oJa"
      },
      "source": [
        "data = pd.read_csv('/content/drive/MyDrive/AboCoders_DataScience/titanic_train.csv')"
      ],
      "execution_count": 71,
      "outputs": []
    },
    {
      "cell_type": "code",
      "metadata": {
        "colab": {
          "base_uri": "https://localhost:8080/"
        },
        "id": "qsMJ1TWg6FEN",
        "outputId": "b2d0f4f3-c1c2-4a28-c316-20b8b7d87d07"
      },
      "source": [
        "from google.colab import drive\n",
        "drive.mount('/content/drive')"
      ],
      "execution_count": 3,
      "outputs": [
        {
          "output_type": "stream",
          "text": [
            "Go to this URL in a browser: https://accounts.google.com/o/oauth2/auth?client_id=947318989803-6bn6qk8qdgf4n4g3pfee6491hc0brc4i.apps.googleusercontent.com&redirect_uri=urn%3aietf%3awg%3aoauth%3a2.0%3aoob&scope=email%20https%3a%2f%2fwww.googleapis.com%2fauth%2fdocs.test%20https%3a%2f%2fwww.googleapis.com%2fauth%2fdrive%20https%3a%2f%2fwww.googleapis.com%2fauth%2fdrive.photos.readonly%20https%3a%2f%2fwww.googleapis.com%2fauth%2fpeopleapi.readonly%20https%3a%2f%2fwww.googleapis.com%2fauth%2fdrive.activity.readonly&response_type=code\n",
            "\n",
            "Enter your authorization code:\n",
            "4/1AY0e-g7QrrxJ6I6gcP2INb0rh6ACQE0isnCdgAVgw79n7zZr1gXT0DDfveA\n",
            "Mounted at /content/drive\n"
          ],
          "name": "stdout"
        }
      ]
    },
    {
      "cell_type": "markdown",
      "metadata": {
        "id": "A1D4fUlg3oJb"
      },
      "source": [
        "### Getting a feel of our dataset"
      ]
    },
    {
      "cell_type": "code",
      "metadata": {
        "id": "1BNrO4nl3oJb",
        "colab": {
          "base_uri": "https://localhost:8080/",
          "height": 271
        },
        "outputId": "05ac75b6-547f-48e6-c61c-e70279e74448"
      },
      "source": [
        "data.head()"
      ],
      "execution_count": 9,
      "outputs": [
        {
          "output_type": "execute_result",
          "data": {
            "text/html": [
              "<div>\n",
              "<style scoped>\n",
              "    .dataframe tbody tr th:only-of-type {\n",
              "        vertical-align: middle;\n",
              "    }\n",
              "\n",
              "    .dataframe tbody tr th {\n",
              "        vertical-align: top;\n",
              "    }\n",
              "\n",
              "    .dataframe thead th {\n",
              "        text-align: right;\n",
              "    }\n",
              "</style>\n",
              "<table border=\"1\" class=\"dataframe\">\n",
              "  <thead>\n",
              "    <tr style=\"text-align: right;\">\n",
              "      <th></th>\n",
              "      <th>passenger_id</th>\n",
              "      <th>pclass</th>\n",
              "      <th>name</th>\n",
              "      <th>sex</th>\n",
              "      <th>age</th>\n",
              "      <th>sibsp</th>\n",
              "      <th>parch</th>\n",
              "      <th>ticket</th>\n",
              "      <th>fare</th>\n",
              "      <th>cabin</th>\n",
              "      <th>embarked</th>\n",
              "      <th>boat</th>\n",
              "      <th>body</th>\n",
              "      <th>home.dest</th>\n",
              "      <th>survived</th>\n",
              "    </tr>\n",
              "  </thead>\n",
              "  <tbody>\n",
              "    <tr>\n",
              "      <th>0</th>\n",
              "      <td>1216</td>\n",
              "      <td>3</td>\n",
              "      <td>Smyth, Miss. Julia</td>\n",
              "      <td>female</td>\n",
              "      <td>NaN</td>\n",
              "      <td>0</td>\n",
              "      <td>0</td>\n",
              "      <td>335432</td>\n",
              "      <td>7.7333</td>\n",
              "      <td>NaN</td>\n",
              "      <td>Q</td>\n",
              "      <td>13</td>\n",
              "      <td>NaN</td>\n",
              "      <td>NaN</td>\n",
              "      <td>1</td>\n",
              "    </tr>\n",
              "    <tr>\n",
              "      <th>1</th>\n",
              "      <td>699</td>\n",
              "      <td>3</td>\n",
              "      <td>Cacic, Mr. Luka</td>\n",
              "      <td>male</td>\n",
              "      <td>38.0</td>\n",
              "      <td>0</td>\n",
              "      <td>0</td>\n",
              "      <td>315089</td>\n",
              "      <td>8.6625</td>\n",
              "      <td>NaN</td>\n",
              "      <td>S</td>\n",
              "      <td>NaN</td>\n",
              "      <td>NaN</td>\n",
              "      <td>Croatia</td>\n",
              "      <td>0</td>\n",
              "    </tr>\n",
              "    <tr>\n",
              "      <th>2</th>\n",
              "      <td>1267</td>\n",
              "      <td>3</td>\n",
              "      <td>Van Impe, Mrs. Jean Baptiste (Rosalie Paula Go...</td>\n",
              "      <td>female</td>\n",
              "      <td>30.0</td>\n",
              "      <td>1</td>\n",
              "      <td>1</td>\n",
              "      <td>345773</td>\n",
              "      <td>24.1500</td>\n",
              "      <td>NaN</td>\n",
              "      <td>S</td>\n",
              "      <td>NaN</td>\n",
              "      <td>NaN</td>\n",
              "      <td>NaN</td>\n",
              "      <td>0</td>\n",
              "    </tr>\n",
              "    <tr>\n",
              "      <th>3</th>\n",
              "      <td>449</td>\n",
              "      <td>2</td>\n",
              "      <td>Hocking, Mrs. Elizabeth (Eliza Needs)</td>\n",
              "      <td>female</td>\n",
              "      <td>54.0</td>\n",
              "      <td>1</td>\n",
              "      <td>3</td>\n",
              "      <td>29105</td>\n",
              "      <td>23.0000</td>\n",
              "      <td>NaN</td>\n",
              "      <td>S</td>\n",
              "      <td>4</td>\n",
              "      <td>NaN</td>\n",
              "      <td>Cornwall / Akron, OH</td>\n",
              "      <td>1</td>\n",
              "    </tr>\n",
              "    <tr>\n",
              "      <th>4</th>\n",
              "      <td>576</td>\n",
              "      <td>2</td>\n",
              "      <td>Veal, Mr. James</td>\n",
              "      <td>male</td>\n",
              "      <td>40.0</td>\n",
              "      <td>0</td>\n",
              "      <td>0</td>\n",
              "      <td>28221</td>\n",
              "      <td>13.0000</td>\n",
              "      <td>NaN</td>\n",
              "      <td>S</td>\n",
              "      <td>NaN</td>\n",
              "      <td>NaN</td>\n",
              "      <td>Barre, Co Washington, VT</td>\n",
              "      <td>0</td>\n",
              "    </tr>\n",
              "  </tbody>\n",
              "</table>\n",
              "</div>"
            ],
            "text/plain": [
              "   passenger_id  pclass  ...                 home.dest survived\n",
              "0          1216       3  ...                       NaN        1\n",
              "1           699       3  ...                   Croatia        0\n",
              "2          1267       3  ...                       NaN        0\n",
              "3           449       2  ...      Cornwall / Akron, OH        1\n",
              "4           576       2  ...  Barre, Co Washington, VT        0\n",
              "\n",
              "[5 rows x 15 columns]"
            ]
          },
          "metadata": {
            "tags": []
          },
          "execution_count": 9
        }
      ]
    },
    {
      "cell_type": "code",
      "metadata": {
        "id": "45KoVN1O3oJc",
        "colab": {
          "base_uri": "https://localhost:8080/",
          "height": 254
        },
        "outputId": "8c53d7c4-2fff-4906-cb7a-6398ddb15c4f"
      },
      "source": [
        "data.tail()"
      ],
      "execution_count": 10,
      "outputs": [
        {
          "output_type": "execute_result",
          "data": {
            "text/html": [
              "<div>\n",
              "<style scoped>\n",
              "    .dataframe tbody tr th:only-of-type {\n",
              "        vertical-align: middle;\n",
              "    }\n",
              "\n",
              "    .dataframe tbody tr th {\n",
              "        vertical-align: top;\n",
              "    }\n",
              "\n",
              "    .dataframe thead th {\n",
              "        text-align: right;\n",
              "    }\n",
              "</style>\n",
              "<table border=\"1\" class=\"dataframe\">\n",
              "  <thead>\n",
              "    <tr style=\"text-align: right;\">\n",
              "      <th></th>\n",
              "      <th>passenger_id</th>\n",
              "      <th>pclass</th>\n",
              "      <th>name</th>\n",
              "      <th>sex</th>\n",
              "      <th>age</th>\n",
              "      <th>sibsp</th>\n",
              "      <th>parch</th>\n",
              "      <th>ticket</th>\n",
              "      <th>fare</th>\n",
              "      <th>cabin</th>\n",
              "      <th>embarked</th>\n",
              "      <th>boat</th>\n",
              "      <th>body</th>\n",
              "      <th>home.dest</th>\n",
              "      <th>survived</th>\n",
              "    </tr>\n",
              "  </thead>\n",
              "  <tbody>\n",
              "    <tr>\n",
              "      <th>845</th>\n",
              "      <td>158</td>\n",
              "      <td>1</td>\n",
              "      <td>Hipkins, Mr. William Edward</td>\n",
              "      <td>male</td>\n",
              "      <td>55.0</td>\n",
              "      <td>0</td>\n",
              "      <td>0</td>\n",
              "      <td>680</td>\n",
              "      <td>50.000</td>\n",
              "      <td>C39</td>\n",
              "      <td>S</td>\n",
              "      <td>NaN</td>\n",
              "      <td>NaN</td>\n",
              "      <td>London / Birmingham</td>\n",
              "      <td>0</td>\n",
              "    </tr>\n",
              "    <tr>\n",
              "      <th>846</th>\n",
              "      <td>174</td>\n",
              "      <td>1</td>\n",
              "      <td>Kent, Mr. Edward Austin</td>\n",
              "      <td>male</td>\n",
              "      <td>58.0</td>\n",
              "      <td>0</td>\n",
              "      <td>0</td>\n",
              "      <td>11771</td>\n",
              "      <td>29.700</td>\n",
              "      <td>B37</td>\n",
              "      <td>C</td>\n",
              "      <td>NaN</td>\n",
              "      <td>258.0</td>\n",
              "      <td>Buffalo, NY</td>\n",
              "      <td>0</td>\n",
              "    </tr>\n",
              "    <tr>\n",
              "      <th>847</th>\n",
              "      <td>467</td>\n",
              "      <td>2</td>\n",
              "      <td>Kantor, Mrs. Sinai (Miriam Sternin)</td>\n",
              "      <td>female</td>\n",
              "      <td>24.0</td>\n",
              "      <td>1</td>\n",
              "      <td>0</td>\n",
              "      <td>244367</td>\n",
              "      <td>26.000</td>\n",
              "      <td>NaN</td>\n",
              "      <td>S</td>\n",
              "      <td>12</td>\n",
              "      <td>NaN</td>\n",
              "      <td>Moscow / Bronx, NY</td>\n",
              "      <td>1</td>\n",
              "    </tr>\n",
              "    <tr>\n",
              "      <th>848</th>\n",
              "      <td>1112</td>\n",
              "      <td>3</td>\n",
              "      <td>Peacock, Miss. Treasteall</td>\n",
              "      <td>female</td>\n",
              "      <td>3.0</td>\n",
              "      <td>1</td>\n",
              "      <td>1</td>\n",
              "      <td>SOTON/O.Q. 3101315</td>\n",
              "      <td>13.775</td>\n",
              "      <td>NaN</td>\n",
              "      <td>S</td>\n",
              "      <td>NaN</td>\n",
              "      <td>NaN</td>\n",
              "      <td>NaN</td>\n",
              "      <td>0</td>\n",
              "    </tr>\n",
              "    <tr>\n",
              "      <th>849</th>\n",
              "      <td>425</td>\n",
              "      <td>2</td>\n",
              "      <td>Greenberg, Mr. Samuel</td>\n",
              "      <td>male</td>\n",
              "      <td>52.0</td>\n",
              "      <td>0</td>\n",
              "      <td>0</td>\n",
              "      <td>250647</td>\n",
              "      <td>13.000</td>\n",
              "      <td>NaN</td>\n",
              "      <td>S</td>\n",
              "      <td>NaN</td>\n",
              "      <td>19.0</td>\n",
              "      <td>Bronx, NY</td>\n",
              "      <td>0</td>\n",
              "    </tr>\n",
              "  </tbody>\n",
              "</table>\n",
              "</div>"
            ],
            "text/plain": [
              "     passenger_id  pclass  ...            home.dest survived\n",
              "845           158       1  ...  London / Birmingham        0\n",
              "846           174       1  ...          Buffalo, NY        0\n",
              "847           467       2  ...   Moscow / Bronx, NY        1\n",
              "848          1112       3  ...                  NaN        0\n",
              "849           425       2  ...            Bronx, NY        0\n",
              "\n",
              "[5 rows x 15 columns]"
            ]
          },
          "metadata": {
            "tags": []
          },
          "execution_count": 10
        }
      ]
    },
    {
      "cell_type": "code",
      "metadata": {
        "id": "rvw9GV-u3oJd",
        "colab": {
          "base_uri": "https://localhost:8080/"
        },
        "outputId": "a59c170e-960d-4a9e-c160-dcf847bb6fe2"
      },
      "source": [
        "data.shape"
      ],
      "execution_count": 11,
      "outputs": [
        {
          "output_type": "execute_result",
          "data": {
            "text/plain": [
              "(850, 15)"
            ]
          },
          "metadata": {
            "tags": []
          },
          "execution_count": 11
        }
      ]
    },
    {
      "cell_type": "code",
      "metadata": {
        "id": "WcPF6IdU3oJe",
        "colab": {
          "base_uri": "https://localhost:8080/"
        },
        "outputId": "7e4fd65c-6372-4edb-c377-832a88395e2b"
      },
      "source": [
        "data.columns"
      ],
      "execution_count": 13,
      "outputs": [
        {
          "output_type": "execute_result",
          "data": {
            "text/plain": [
              "Index(['passenger_id', 'pclass', 'name', 'sex', 'age', 'sibsp', 'parch',\n",
              "       'ticket', 'fare', 'cabin', 'embarked', 'boat', 'body', 'home.dest',\n",
              "       'survived'],\n",
              "      dtype='object')"
            ]
          },
          "metadata": {
            "tags": []
          },
          "execution_count": 13
        }
      ]
    },
    {
      "cell_type": "code",
      "metadata": {
        "scrolled": true,
        "id": "0yfMhXME3oJe",
        "colab": {
          "base_uri": "https://localhost:8080/"
        },
        "outputId": "a128ea16-9d52-483a-c5ca-be4caefa0d86"
      },
      "source": [
        "data.info()"
      ],
      "execution_count": 14,
      "outputs": [
        {
          "output_type": "stream",
          "text": [
            "<class 'pandas.core.frame.DataFrame'>\n",
            "RangeIndex: 850 entries, 0 to 849\n",
            "Data columns (total 15 columns):\n",
            " #   Column        Non-Null Count  Dtype  \n",
            "---  ------        --------------  -----  \n",
            " 0   passenger_id  850 non-null    int64  \n",
            " 1   pclass        850 non-null    int64  \n",
            " 2   name          850 non-null    object \n",
            " 3   sex           850 non-null    object \n",
            " 4   age           676 non-null    float64\n",
            " 5   sibsp         850 non-null    int64  \n",
            " 6   parch         850 non-null    int64  \n",
            " 7   ticket        850 non-null    object \n",
            " 8   fare          849 non-null    float64\n",
            " 9   cabin         191 non-null    object \n",
            " 10  embarked      849 non-null    object \n",
            " 11  boat          308 non-null    object \n",
            " 12  body          73 non-null     float64\n",
            " 13  home.dest     464 non-null    object \n",
            " 14  survived      850 non-null    int64  \n",
            "dtypes: float64(3), int64(5), object(7)\n",
            "memory usage: 99.7+ KB\n"
          ],
          "name": "stdout"
        }
      ]
    },
    {
      "cell_type": "markdown",
      "metadata": {
        "id": "dJAOqmkK3oJf"
      },
      "source": [
        "We have 850 rows and 15 features:3 features are float, 5 are interger, 7 are objects. Some of the feature/columns also have null or missing values"
      ]
    },
    {
      "cell_type": "code",
      "metadata": {
        "scrolled": true,
        "id": "xD7vytjK3oJf",
        "colab": {
          "base_uri": "https://localhost:8080/",
          "height": 294
        },
        "outputId": "92b03d28-5a8e-4121-e3b8-59790850f429"
      },
      "source": [
        "data.describe()"
      ],
      "execution_count": 15,
      "outputs": [
        {
          "output_type": "execute_result",
          "data": {
            "text/html": [
              "<div>\n",
              "<style scoped>\n",
              "    .dataframe tbody tr th:only-of-type {\n",
              "        vertical-align: middle;\n",
              "    }\n",
              "\n",
              "    .dataframe tbody tr th {\n",
              "        vertical-align: top;\n",
              "    }\n",
              "\n",
              "    .dataframe thead th {\n",
              "        text-align: right;\n",
              "    }\n",
              "</style>\n",
              "<table border=\"1\" class=\"dataframe\">\n",
              "  <thead>\n",
              "    <tr style=\"text-align: right;\">\n",
              "      <th></th>\n",
              "      <th>passenger_id</th>\n",
              "      <th>pclass</th>\n",
              "      <th>age</th>\n",
              "      <th>sibsp</th>\n",
              "      <th>parch</th>\n",
              "      <th>fare</th>\n",
              "      <th>body</th>\n",
              "      <th>survived</th>\n",
              "    </tr>\n",
              "  </thead>\n",
              "  <tbody>\n",
              "    <tr>\n",
              "      <th>count</th>\n",
              "      <td>850.000000</td>\n",
              "      <td>850.00000</td>\n",
              "      <td>676.000000</td>\n",
              "      <td>850.000000</td>\n",
              "      <td>850.000000</td>\n",
              "      <td>849.000000</td>\n",
              "      <td>73.000000</td>\n",
              "      <td>850.000000</td>\n",
              "    </tr>\n",
              "    <tr>\n",
              "      <th>mean</th>\n",
              "      <td>662.816471</td>\n",
              "      <td>2.32000</td>\n",
              "      <td>29.519847</td>\n",
              "      <td>0.522353</td>\n",
              "      <td>0.382353</td>\n",
              "      <td>34.012701</td>\n",
              "      <td>165.821918</td>\n",
              "      <td>0.368235</td>\n",
              "    </tr>\n",
              "    <tr>\n",
              "      <th>std</th>\n",
              "      <td>380.751936</td>\n",
              "      <td>0.83853</td>\n",
              "      <td>14.562243</td>\n",
              "      <td>1.112132</td>\n",
              "      <td>0.879511</td>\n",
              "      <td>53.705779</td>\n",
              "      <td>99.068487</td>\n",
              "      <td>0.482610</td>\n",
              "    </tr>\n",
              "    <tr>\n",
              "      <th>min</th>\n",
              "      <td>1.000000</td>\n",
              "      <td>1.00000</td>\n",
              "      <td>0.166700</td>\n",
              "      <td>0.000000</td>\n",
              "      <td>0.000000</td>\n",
              "      <td>0.000000</td>\n",
              "      <td>4.000000</td>\n",
              "      <td>0.000000</td>\n",
              "    </tr>\n",
              "    <tr>\n",
              "      <th>25%</th>\n",
              "      <td>332.250000</td>\n",
              "      <td>2.00000</td>\n",
              "      <td>20.000000</td>\n",
              "      <td>0.000000</td>\n",
              "      <td>0.000000</td>\n",
              "      <td>7.895800</td>\n",
              "      <td>75.000000</td>\n",
              "      <td>0.000000</td>\n",
              "    </tr>\n",
              "    <tr>\n",
              "      <th>50%</th>\n",
              "      <td>676.500000</td>\n",
              "      <td>3.00000</td>\n",
              "      <td>28.000000</td>\n",
              "      <td>0.000000</td>\n",
              "      <td>0.000000</td>\n",
              "      <td>14.108300</td>\n",
              "      <td>166.000000</td>\n",
              "      <td>0.000000</td>\n",
              "    </tr>\n",
              "    <tr>\n",
              "      <th>75%</th>\n",
              "      <td>992.250000</td>\n",
              "      <td>3.00000</td>\n",
              "      <td>37.000000</td>\n",
              "      <td>1.000000</td>\n",
              "      <td>0.000000</td>\n",
              "      <td>31.000000</td>\n",
              "      <td>260.000000</td>\n",
              "      <td>1.000000</td>\n",
              "    </tr>\n",
              "    <tr>\n",
              "      <th>max</th>\n",
              "      <td>1307.000000</td>\n",
              "      <td>3.00000</td>\n",
              "      <td>80.000000</td>\n",
              "      <td>8.000000</td>\n",
              "      <td>9.000000</td>\n",
              "      <td>512.329200</td>\n",
              "      <td>328.000000</td>\n",
              "      <td>1.000000</td>\n",
              "    </tr>\n",
              "  </tbody>\n",
              "</table>\n",
              "</div>"
            ],
            "text/plain": [
              "       passenger_id     pclass         age  ...        fare        body    survived\n",
              "count    850.000000  850.00000  676.000000  ...  849.000000   73.000000  850.000000\n",
              "mean     662.816471    2.32000   29.519847  ...   34.012701  165.821918    0.368235\n",
              "std      380.751936    0.83853   14.562243  ...   53.705779   99.068487    0.482610\n",
              "min        1.000000    1.00000    0.166700  ...    0.000000    4.000000    0.000000\n",
              "25%      332.250000    2.00000   20.000000  ...    7.895800   75.000000    0.000000\n",
              "50%      676.500000    3.00000   28.000000  ...   14.108300  166.000000    0.000000\n",
              "75%      992.250000    3.00000   37.000000  ...   31.000000  260.000000    1.000000\n",
              "max     1307.000000    3.00000   80.000000  ...  512.329200  328.000000    1.000000\n",
              "\n",
              "[8 rows x 8 columns]"
            ]
          },
          "metadata": {
            "tags": []
          },
          "execution_count": 15
        }
      ]
    },
    {
      "cell_type": "markdown",
      "metadata": {
        "id": "akNHv_Gr3oJf"
      },
      "source": [
        "data.describe() provide statistics for the numeric features"
      ]
    },
    {
      "cell_type": "markdown",
      "metadata": {
        "id": "5q9QKMl93oJg"
      },
      "source": [
        "Lets describe whats the meaning of the features given the both train & test datasets.\n",
        "<h4>Variable Definition Key.</h4>\n",
        "- Survival\n",
        " - 0= No\n",
        " - 1= Yes\n",
        "- pclass (Ticket class)\n",
        " - 1=1st\n",
        " - 2=2nd\n",
        " - 3=3rd\n",
        " \n",
        "- sex\n",
        "<br>\n",
        "\n",
        "- age\n",
        "\n",
        "\n",
        "- sibsp (# of siblings / spouses aboard the Titanic)\n",
        "<br>\n",
        "- parch (# of parents / children aboard the Titanic)\n",
        "<br>\n",
        "- tickets\n",
        "<br>\n",
        "- fare\n",
        "<br>\n",
        "- cabin\n",
        "- boat: Lifeboat(if survived)\n",
        "- body: Body number(if did not survive and body was recovered)\n",
        "- embarked Port of Embark.\n",
        " - C = Cherbourg,\n",
        " - Q = Queenstown,\n",
        " - S = Southampton\n",
        "- pclass: A proxy for socio-economic status (SES)\n",
        "<br>\n",
        "<h4>This is important to remember and will come in handy for later analysis.</h4>\n",
        " - 1st = Upper\n",
        " - 2nd = Middle\n",
        " - 3rd = Lower\n",
        "\n"
      ]
    },
    {
      "cell_type": "markdown",
      "metadata": {
        "id": "9yX9tkd83oJg"
      },
      "source": [
        "## Data cleaning"
      ]
    },
    {
      "cell_type": "markdown",
      "metadata": {
        "id": "RK2EnLpQ3oJg"
      },
      "source": [
        "It looks like this dataset is quite organized, however, before using this dataset for analyzing and visualizing we need to deal with null values, duplicate values, outliers...\n",
        "\n"
      ]
    },
    {
      "cell_type": "markdown",
      "metadata": {
        "id": "ZM8kU7Dy3oJh"
      },
      "source": [
        "#### Treating missing values"
      ]
    },
    {
      "cell_type": "code",
      "metadata": {
        "scrolled": true,
        "id": "63FCJfjk3oJh",
        "colab": {
          "base_uri": "https://localhost:8080/"
        },
        "outputId": "1bd4aa6d-9a7b-49e7-fdb2-0e4273dcd10c"
      },
      "source": [
        "#Getting sum of null values for each feature\n",
        "data.isnull().sum()"
      ],
      "execution_count": 16,
      "outputs": [
        {
          "output_type": "execute_result",
          "data": {
            "text/plain": [
              "passenger_id      0\n",
              "pclass            0\n",
              "name              0\n",
              "sex               0\n",
              "age             174\n",
              "sibsp             0\n",
              "parch             0\n",
              "ticket            0\n",
              "fare              1\n",
              "cabin           659\n",
              "embarked          1\n",
              "boat            542\n",
              "body            777\n",
              "home.dest       386\n",
              "survived          0\n",
              "dtype: int64"
            ]
          },
          "metadata": {
            "tags": []
          },
          "execution_count": 16
        }
      ]
    },
    {
      "cell_type": "markdown",
      "metadata": {
        "id": "dYQYciEJ3oJh"
      },
      "source": [
        "We see Age,Cabin,boat,body,home.dest having a lot of missing values.So First we need to deal with all these NaN values.\n",
        "As in Cabin,boat,and body columns more 2\\3rd of the values are missing.So we get rid of these columns. \n",
        "\n",
        "#### Why missing values treatment is required?\n",
        "Missing data in the data set can lead to a bias because we have not analysed the behavior and relationship with other variables correctly"
      ]
    },
    {
      "cell_type": "code",
      "metadata": {
        "id": "RarNeEag3oJi"
      },
      "source": [
        "#we can create a new variable or continue using our variable name data\n",
        "data = data.drop(['cabin','boat','body'],axis=1)"
      ],
      "execution_count": 17,
      "outputs": []
    },
    {
      "cell_type": "code",
      "metadata": {
        "id": "B3wz6UK63oJi",
        "colab": {
          "base_uri": "https://localhost:8080/"
        },
        "outputId": "54cff82c-33db-4576-b99b-5b07eee85df2"
      },
      "source": [
        "data.shape"
      ],
      "execution_count": 18,
      "outputs": [
        {
          "output_type": "execute_result",
          "data": {
            "text/plain": [
              "(850, 12)"
            ]
          },
          "metadata": {
            "tags": []
          },
          "execution_count": 18
        }
      ]
    },
    {
      "cell_type": "markdown",
      "metadata": {
        "id": "HeeDuloC3oJi"
      },
      "source": [
        "Now the columns have been reduced from 15 to 12"
      ]
    },
    {
      "cell_type": "markdown",
      "metadata": {
        "id": "iCzCw5dV3oJj"
      },
      "source": [
        "For our age feature, we can fill the missing values with the mean, median,or mode of the ages. There are other techniques but we'll use the median for now"
      ]
    },
    {
      "cell_type": "code",
      "metadata": {
        "id": "6UOyPbW43oJj",
        "colab": {
          "base_uri": "https://localhost:8080/"
        },
        "outputId": "2c048b93-9c10-43f6-8d1f-35acaa72d33d"
      },
      "source": [
        "data['age'].median()"
      ],
      "execution_count": 19,
      "outputs": [
        {
          "output_type": "execute_result",
          "data": {
            "text/plain": [
              "28.0"
            ]
          },
          "metadata": {
            "tags": []
          },
          "execution_count": 19
        }
      ]
    },
    {
      "cell_type": "code",
      "metadata": {
        "id": "_S9NQQYn3oJj"
      },
      "source": [
        "data['age'] = data['age'].fillna(data['age'].median())"
      ],
      "execution_count": 20,
      "outputs": []
    },
    {
      "cell_type": "code",
      "metadata": {
        "id": "Fg9acpDE3oJj",
        "colab": {
          "base_uri": "https://localhost:8080/"
        },
        "outputId": "bbda637f-e17d-4156-97a0-9d6d76525169"
      },
      "source": [
        "data['age'].isnull().sum()"
      ],
      "execution_count": 21,
      "outputs": [
        {
          "output_type": "execute_result",
          "data": {
            "text/plain": [
              "0"
            ]
          },
          "metadata": {
            "tags": []
          },
          "execution_count": 21
        }
      ]
    },
    {
      "cell_type": "markdown",
      "metadata": {
        "id": "WydAcxW43oJk"
      },
      "source": [
        "Now age has no missing values"
      ]
    },
    {
      "cell_type": "markdown",
      "metadata": {
        "id": "9kC0wIKu3oJk"
      },
      "source": [
        "We can fill home.dest with the mode"
      ]
    },
    {
      "cell_type": "code",
      "metadata": {
        "id": "gmIw4ZCq3oJk",
        "colab": {
          "base_uri": "https://localhost:8080/"
        },
        "outputId": "85136698-e2c9-4ab4-9e9b-a599e4ce4394"
      },
      "source": [
        "data['home.dest'].mode()"
      ],
      "execution_count": 22,
      "outputs": [
        {
          "output_type": "execute_result",
          "data": {
            "text/plain": [
              "0    New York, NY\n",
              "dtype: object"
            ]
          },
          "metadata": {
            "tags": []
          },
          "execution_count": 22
        }
      ]
    },
    {
      "cell_type": "code",
      "metadata": {
        "id": "iYGy2qwP3oJk"
      },
      "source": [
        "# because home.dest is object(text), we'll copy the value for the mode and paste to fill\n",
        "data['home.dest'] = data['home.dest'].fillna('New York, NY')"
      ],
      "execution_count": 23,
      "outputs": []
    },
    {
      "cell_type": "code",
      "metadata": {
        "id": "_tW7k-4K3oJl",
        "colab": {
          "base_uri": "https://localhost:8080/"
        },
        "outputId": "b6cd7c58-21cb-4149-c6f0-169e8254833a"
      },
      "source": [
        "data['home.dest'].isnull().sum()"
      ],
      "execution_count": 25,
      "outputs": [
        {
          "output_type": "execute_result",
          "data": {
            "text/plain": [
              "0"
            ]
          },
          "metadata": {
            "tags": []
          },
          "execution_count": 25
        }
      ]
    },
    {
      "cell_type": "markdown",
      "metadata": {
        "id": "kJRjk3_x3oJl"
      },
      "source": [
        "Now home.dest has no null values"
      ]
    },
    {
      "cell_type": "code",
      "metadata": {
        "id": "tgUJu9Vv3oJl",
        "colab": {
          "base_uri": "https://localhost:8080/"
        },
        "outputId": "c84981ed-1a6a-401f-94f8-80e99ff97c03"
      },
      "source": [
        "#For fare, let's use median\n",
        "data['fare']=data['fare'].fillna(data['fare'].median())\n",
        "\n",
        "data['fare'].isnull().sum()"
      ],
      "execution_count": 27,
      "outputs": [
        {
          "output_type": "execute_result",
          "data": {
            "text/plain": [
              "0"
            ]
          },
          "metadata": {
            "tags": []
          },
          "execution_count": 27
        }
      ]
    },
    {
      "cell_type": "code",
      "metadata": {
        "id": "wZWm2NaF3oJm",
        "colab": {
          "base_uri": "https://localhost:8080/"
        },
        "outputId": "b158f1b3-ea1d-44ce-de32-ef2f023cc224"
      },
      "source": [
        "#For embarked, let's use mode\n",
        "data['embarked'].mode()"
      ],
      "execution_count": 28,
      "outputs": [
        {
          "output_type": "execute_result",
          "data": {
            "text/plain": [
              "0    S\n",
              "dtype: object"
            ]
          },
          "metadata": {
            "tags": []
          },
          "execution_count": 28
        }
      ]
    },
    {
      "cell_type": "code",
      "metadata": {
        "id": "6DTsTVOj3oJm",
        "colab": {
          "base_uri": "https://localhost:8080/"
        },
        "outputId": "ecc4ce7b-17e7-43bc-a7bb-20985fd5f268"
      },
      "source": [
        "data['embarked']=data['embarked'].fillna('S')\n",
        "data['embarked'].isnull().sum()"
      ],
      "execution_count": 30,
      "outputs": [
        {
          "output_type": "execute_result",
          "data": {
            "text/plain": [
              "0"
            ]
          },
          "metadata": {
            "tags": []
          },
          "execution_count": 30
        }
      ]
    },
    {
      "cell_type": "markdown",
      "metadata": {
        "id": "5FkjbJc83oJm"
      },
      "source": [
        "### Checking for duplicate values"
      ]
    },
    {
      "cell_type": "code",
      "metadata": {
        "id": "xpZnnxdm3oJn",
        "colab": {
          "base_uri": "https://localhost:8080/"
        },
        "outputId": "8a631679-52c4-4faf-ba25-b77ee8e7ce00"
      },
      "source": [
        "data.duplicated()"
      ],
      "execution_count": 31,
      "outputs": [
        {
          "output_type": "execute_result",
          "data": {
            "text/plain": [
              "0      False\n",
              "1      False\n",
              "2      False\n",
              "3      False\n",
              "4      False\n",
              "       ...  \n",
              "845    False\n",
              "846    False\n",
              "847    False\n",
              "848    False\n",
              "849    False\n",
              "Length: 850, dtype: bool"
            ]
          },
          "metadata": {
            "tags": []
          },
          "execution_count": 31
        }
      ]
    },
    {
      "cell_type": "markdown",
      "metadata": {
        "id": "XXrY_P-c3oJn"
      },
      "source": [
        "This return either True or False for if a row is duplicated(is same with another row)\n",
        "\n",
        "Then we can check for those that are True, that is are duplicated"
      ]
    },
    {
      "cell_type": "code",
      "metadata": {
        "id": "9f5qF0Rn3oJn",
        "colab": {
          "base_uri": "https://localhost:8080/",
          "height": 49
        },
        "outputId": "eb5e7a74-3816-43ae-98e1-61a8efdd38c1"
      },
      "source": [
        "data[data.duplicated()==True]"
      ],
      "execution_count": 32,
      "outputs": [
        {
          "output_type": "execute_result",
          "data": {
            "text/html": [
              "<div>\n",
              "<style scoped>\n",
              "    .dataframe tbody tr th:only-of-type {\n",
              "        vertical-align: middle;\n",
              "    }\n",
              "\n",
              "    .dataframe tbody tr th {\n",
              "        vertical-align: top;\n",
              "    }\n",
              "\n",
              "    .dataframe thead th {\n",
              "        text-align: right;\n",
              "    }\n",
              "</style>\n",
              "<table border=\"1\" class=\"dataframe\">\n",
              "  <thead>\n",
              "    <tr style=\"text-align: right;\">\n",
              "      <th></th>\n",
              "      <th>passenger_id</th>\n",
              "      <th>pclass</th>\n",
              "      <th>name</th>\n",
              "      <th>sex</th>\n",
              "      <th>age</th>\n",
              "      <th>sibsp</th>\n",
              "      <th>parch</th>\n",
              "      <th>ticket</th>\n",
              "      <th>fare</th>\n",
              "      <th>embarked</th>\n",
              "      <th>home.dest</th>\n",
              "      <th>survived</th>\n",
              "    </tr>\n",
              "  </thead>\n",
              "  <tbody>\n",
              "  </tbody>\n",
              "</table>\n",
              "</div>"
            ],
            "text/plain": [
              "Empty DataFrame\n",
              "Columns: [passenger_id, pclass, name, sex, age, sibsp, parch, ticket, fare, embarked, home.dest, survived]\n",
              "Index: []"
            ]
          },
          "metadata": {
            "tags": []
          },
          "execution_count": 32
        }
      ]
    },
    {
      "cell_type": "markdown",
      "metadata": {
        "id": "c57nq3RD3oJn"
      },
      "source": [
        "Luckily we have no rows that are duplicated, else\n",
        "\n",
        "data.drop_duplicates will remove the duplicates. We can still try it to see"
      ]
    },
    {
      "cell_type": "code",
      "metadata": {
        "id": "0dlaDtNJ3oJo",
        "colab": {
          "base_uri": "https://localhost:8080/",
          "height": 519
        },
        "outputId": "988828ef-3cba-47ca-ec09-0ba54b6eb4c2"
      },
      "source": [
        "data.drop_duplicates()"
      ],
      "execution_count": 33,
      "outputs": [
        {
          "output_type": "execute_result",
          "data": {
            "text/html": [
              "<div>\n",
              "<style scoped>\n",
              "    .dataframe tbody tr th:only-of-type {\n",
              "        vertical-align: middle;\n",
              "    }\n",
              "\n",
              "    .dataframe tbody tr th {\n",
              "        vertical-align: top;\n",
              "    }\n",
              "\n",
              "    .dataframe thead th {\n",
              "        text-align: right;\n",
              "    }\n",
              "</style>\n",
              "<table border=\"1\" class=\"dataframe\">\n",
              "  <thead>\n",
              "    <tr style=\"text-align: right;\">\n",
              "      <th></th>\n",
              "      <th>passenger_id</th>\n",
              "      <th>pclass</th>\n",
              "      <th>name</th>\n",
              "      <th>sex</th>\n",
              "      <th>age</th>\n",
              "      <th>sibsp</th>\n",
              "      <th>parch</th>\n",
              "      <th>ticket</th>\n",
              "      <th>fare</th>\n",
              "      <th>embarked</th>\n",
              "      <th>home.dest</th>\n",
              "      <th>survived</th>\n",
              "    </tr>\n",
              "  </thead>\n",
              "  <tbody>\n",
              "    <tr>\n",
              "      <th>0</th>\n",
              "      <td>1216</td>\n",
              "      <td>3</td>\n",
              "      <td>Smyth, Miss. Julia</td>\n",
              "      <td>female</td>\n",
              "      <td>28.0</td>\n",
              "      <td>0</td>\n",
              "      <td>0</td>\n",
              "      <td>335432</td>\n",
              "      <td>7.7333</td>\n",
              "      <td>Q</td>\n",
              "      <td>New York, NY</td>\n",
              "      <td>1</td>\n",
              "    </tr>\n",
              "    <tr>\n",
              "      <th>1</th>\n",
              "      <td>699</td>\n",
              "      <td>3</td>\n",
              "      <td>Cacic, Mr. Luka</td>\n",
              "      <td>male</td>\n",
              "      <td>38.0</td>\n",
              "      <td>0</td>\n",
              "      <td>0</td>\n",
              "      <td>315089</td>\n",
              "      <td>8.6625</td>\n",
              "      <td>S</td>\n",
              "      <td>Croatia</td>\n",
              "      <td>0</td>\n",
              "    </tr>\n",
              "    <tr>\n",
              "      <th>2</th>\n",
              "      <td>1267</td>\n",
              "      <td>3</td>\n",
              "      <td>Van Impe, Mrs. Jean Baptiste (Rosalie Paula Go...</td>\n",
              "      <td>female</td>\n",
              "      <td>30.0</td>\n",
              "      <td>1</td>\n",
              "      <td>1</td>\n",
              "      <td>345773</td>\n",
              "      <td>24.1500</td>\n",
              "      <td>S</td>\n",
              "      <td>New York, NY</td>\n",
              "      <td>0</td>\n",
              "    </tr>\n",
              "    <tr>\n",
              "      <th>3</th>\n",
              "      <td>449</td>\n",
              "      <td>2</td>\n",
              "      <td>Hocking, Mrs. Elizabeth (Eliza Needs)</td>\n",
              "      <td>female</td>\n",
              "      <td>54.0</td>\n",
              "      <td>1</td>\n",
              "      <td>3</td>\n",
              "      <td>29105</td>\n",
              "      <td>23.0000</td>\n",
              "      <td>S</td>\n",
              "      <td>Cornwall / Akron, OH</td>\n",
              "      <td>1</td>\n",
              "    </tr>\n",
              "    <tr>\n",
              "      <th>4</th>\n",
              "      <td>576</td>\n",
              "      <td>2</td>\n",
              "      <td>Veal, Mr. James</td>\n",
              "      <td>male</td>\n",
              "      <td>40.0</td>\n",
              "      <td>0</td>\n",
              "      <td>0</td>\n",
              "      <td>28221</td>\n",
              "      <td>13.0000</td>\n",
              "      <td>S</td>\n",
              "      <td>Barre, Co Washington, VT</td>\n",
              "      <td>0</td>\n",
              "    </tr>\n",
              "    <tr>\n",
              "      <th>...</th>\n",
              "      <td>...</td>\n",
              "      <td>...</td>\n",
              "      <td>...</td>\n",
              "      <td>...</td>\n",
              "      <td>...</td>\n",
              "      <td>...</td>\n",
              "      <td>...</td>\n",
              "      <td>...</td>\n",
              "      <td>...</td>\n",
              "      <td>...</td>\n",
              "      <td>...</td>\n",
              "      <td>...</td>\n",
              "    </tr>\n",
              "    <tr>\n",
              "      <th>845</th>\n",
              "      <td>158</td>\n",
              "      <td>1</td>\n",
              "      <td>Hipkins, Mr. William Edward</td>\n",
              "      <td>male</td>\n",
              "      <td>55.0</td>\n",
              "      <td>0</td>\n",
              "      <td>0</td>\n",
              "      <td>680</td>\n",
              "      <td>50.0000</td>\n",
              "      <td>S</td>\n",
              "      <td>London / Birmingham</td>\n",
              "      <td>0</td>\n",
              "    </tr>\n",
              "    <tr>\n",
              "      <th>846</th>\n",
              "      <td>174</td>\n",
              "      <td>1</td>\n",
              "      <td>Kent, Mr. Edward Austin</td>\n",
              "      <td>male</td>\n",
              "      <td>58.0</td>\n",
              "      <td>0</td>\n",
              "      <td>0</td>\n",
              "      <td>11771</td>\n",
              "      <td>29.7000</td>\n",
              "      <td>C</td>\n",
              "      <td>Buffalo, NY</td>\n",
              "      <td>0</td>\n",
              "    </tr>\n",
              "    <tr>\n",
              "      <th>847</th>\n",
              "      <td>467</td>\n",
              "      <td>2</td>\n",
              "      <td>Kantor, Mrs. Sinai (Miriam Sternin)</td>\n",
              "      <td>female</td>\n",
              "      <td>24.0</td>\n",
              "      <td>1</td>\n",
              "      <td>0</td>\n",
              "      <td>244367</td>\n",
              "      <td>26.0000</td>\n",
              "      <td>S</td>\n",
              "      <td>Moscow / Bronx, NY</td>\n",
              "      <td>1</td>\n",
              "    </tr>\n",
              "    <tr>\n",
              "      <th>848</th>\n",
              "      <td>1112</td>\n",
              "      <td>3</td>\n",
              "      <td>Peacock, Miss. Treasteall</td>\n",
              "      <td>female</td>\n",
              "      <td>3.0</td>\n",
              "      <td>1</td>\n",
              "      <td>1</td>\n",
              "      <td>SOTON/O.Q. 3101315</td>\n",
              "      <td>13.7750</td>\n",
              "      <td>S</td>\n",
              "      <td>New York, NY</td>\n",
              "      <td>0</td>\n",
              "    </tr>\n",
              "    <tr>\n",
              "      <th>849</th>\n",
              "      <td>425</td>\n",
              "      <td>2</td>\n",
              "      <td>Greenberg, Mr. Samuel</td>\n",
              "      <td>male</td>\n",
              "      <td>52.0</td>\n",
              "      <td>0</td>\n",
              "      <td>0</td>\n",
              "      <td>250647</td>\n",
              "      <td>13.0000</td>\n",
              "      <td>S</td>\n",
              "      <td>Bronx, NY</td>\n",
              "      <td>0</td>\n",
              "    </tr>\n",
              "  </tbody>\n",
              "</table>\n",
              "<p>850 rows × 12 columns</p>\n",
              "</div>"
            ],
            "text/plain": [
              "     passenger_id  pclass  ...                 home.dest survived\n",
              "0            1216       3  ...              New York, NY        1\n",
              "1             699       3  ...                   Croatia        0\n",
              "2            1267       3  ...              New York, NY        0\n",
              "3             449       2  ...      Cornwall / Akron, OH        1\n",
              "4             576       2  ...  Barre, Co Washington, VT        0\n",
              "..            ...     ...  ...                       ...      ...\n",
              "845           158       1  ...       London / Birmingham        0\n",
              "846           174       1  ...               Buffalo, NY        0\n",
              "847           467       2  ...        Moscow / Bronx, NY        1\n",
              "848          1112       3  ...              New York, NY        0\n",
              "849           425       2  ...                 Bronx, NY        0\n",
              "\n",
              "[850 rows x 12 columns]"
            ]
          },
          "metadata": {
            "tags": []
          },
          "execution_count": 33
        }
      ]
    },
    {
      "cell_type": "markdown",
      "metadata": {
        "id": "eMKvYSaq3oJo"
      },
      "source": [
        "It's still our 850 rows meaning that there is no duplicates and no row was dropped"
      ]
    },
    {
      "cell_type": "markdown",
      "metadata": {
        "id": "zA9bfzZr3oJo"
      },
      "source": [
        "### Treating Outlier(extreme values)"
      ]
    },
    {
      "cell_type": "markdown",
      "metadata": {
        "id": "t9Ccboqv3oJo"
      },
      "source": [
        "Outliers are extreme values, if you have age to be 200 or -5, they're likely outliers as people dont live up to 200 in the world today, and age cannot be negative\n",
        "\n",
        "data.describe() is giving us a sense of outliers already. For instance,the 75th percentile of fare is 31 while the maximum value is 512. We might go ahead to drop the rows with outlier values or use visualizations to further confirm this"
      ]
    },
    {
      "cell_type": "markdown",
      "metadata": {
        "id": "WofmR0gn3oJp"
      },
      "source": [
        "## Exploratory Data Analysis"
      ]
    },
    {
      "cell_type": "markdown",
      "metadata": {
        "id": "nH7Eorgh3oJp"
      },
      "source": [
        "We talk about this next...."
      ]
    },
    {
      "cell_type": "code",
      "metadata": {
        "scrolled": true,
        "id": "m7Hni6VC3oJp",
        "colab": {
          "base_uri": "https://localhost:8080/"
        },
        "outputId": "6fe27ed5-bc27-44dc-f21b-ad7b3988ccba"
      },
      "source": [
        "#value count for pclass\n",
        "data['pclass'].value_counts()"
      ],
      "execution_count": 34,
      "outputs": [
        {
          "output_type": "execute_result",
          "data": {
            "text/plain": [
              "3    478\n",
              "1    206\n",
              "2    166\n",
              "Name: pclass, dtype: int64"
            ]
          },
          "metadata": {
            "tags": []
          },
          "execution_count": 34
        }
      ]
    },
    {
      "cell_type": "markdown",
      "metadata": {
        "id": "QJ0l9O3l3oJp"
      },
      "source": [
        "Most of the passengers are in pclass 3\n",
        "\n",
        "Let's see the count of pclass by sex, we use groupby here"
      ]
    },
    {
      "cell_type": "code",
      "metadata": {
        "scrolled": true,
        "id": "jFenCkF93oJq",
        "colab": {
          "base_uri": "https://localhost:8080/"
        },
        "outputId": "860d0737-e234-4fb7-c022-97e1cefa4a85"
      },
      "source": [
        "data.groupby(['pclass','sex'])['pclass'].count()"
      ],
      "execution_count": 36,
      "outputs": [
        {
          "output_type": "execute_result",
          "data": {
            "text/plain": [
              "pclass  sex     age \n",
              "1       female  2.0     1\n",
              "                14.0    1\n",
              "                15.0    1\n",
              "                16.0    2\n",
              "                17.0    1\n",
              "                       ..\n",
              "3       male    55.5    1\n",
              "                60.5    1\n",
              "                61.0    1\n",
              "                65.0    1\n",
              "                74.0    1\n",
              "Name: pclass, Length: 276, dtype: int64"
            ]
          },
          "metadata": {
            "tags": []
          },
          "execution_count": 36
        }
      ]
    },
    {
      "cell_type": "code",
      "metadata": {
        "colab": {
          "base_uri": "https://localhost:8080/"
        },
        "id": "fO_RiDqtFTMp",
        "outputId": "ded84646-b48d-4d45-f710-e4aec28e55f7"
      },
      "source": [
        "data.groupby(['pclass','age'])['pclass'].count()"
      ],
      "execution_count": 37,
      "outputs": [
        {
          "output_type": "execute_result",
          "data": {
            "text/plain": [
              "pclass  age    \n",
              "1       0.9167     1\n",
              "        2.0000     1\n",
              "        4.0000     1\n",
              "        6.0000     1\n",
              "        11.0000    1\n",
              "                  ..\n",
              "3       55.5000    1\n",
              "        60.5000    1\n",
              "        61.0000    1\n",
              "        65.0000    1\n",
              "        74.0000    1\n",
              "Name: pclass, Length: 184, dtype: int64"
            ]
          },
          "metadata": {
            "tags": []
          },
          "execution_count": 37
        }
      ]
    },
    {
      "cell_type": "markdown",
      "metadata": {
        "id": "mtmTMZgD3oJq"
      },
      "source": [
        "Getting some insights "
      ]
    },
    {
      "cell_type": "code",
      "metadata": {
        "id": "T345mXNl3oJq",
        "colab": {
          "base_uri": "https://localhost:8080/"
        },
        "outputId": "9c7f134d-cda3-47e4-a716-a11d4f7a13bf"
      },
      "source": [
        "#what percentage of the passengers are female?\n",
        "fe=(len(data[data.sex=='female'])/len(data)) * 100\n",
        "\n",
        "print('The percentage of female is {}'.format(fe))\n",
        "#see how print formatting was used there"
      ],
      "execution_count": 38,
      "outputs": [
        {
          "output_type": "stream",
          "text": [
            "The percentage of female is 35.17647058823529\n"
          ],
          "name": "stdout"
        }
      ]
    },
    {
      "cell_type": "code",
      "metadata": {
        "id": "zY799LTn3oJr",
        "colab": {
          "base_uri": "https://localhost:8080/"
        },
        "outputId": "e01eadfb-b385-4acc-a767-65f214618137"
      },
      "source": [
        "#What percentage of the passengers are below 10 years of age?\n",
        "ag=(len(data[data.age<10])/len(data)) * 100\n",
        "print('{} percentage of the passengers are below 10 years of age'.format(ag))"
      ],
      "execution_count": 39,
      "outputs": [
        {
          "output_type": "stream",
          "text": [
            "6.588235294117648 percentage of the passengers are below 10 years of age\n"
          ],
          "name": "stdout"
        }
      ]
    },
    {
      "cell_type": "code",
      "metadata": {
        "id": "6S5xJqJA3oJr",
        "colab": {
          "base_uri": "https://localhost:8080/"
        },
        "outputId": "76ad50fb-3aed-470b-d4cd-47782c9ad94e"
      },
      "source": [
        "#What percentage of the passengers are either below 10 or above 70 years ?\n",
        "agt=(len(data[(data.age<10) | (data.age>70)] )/len(data)) * 100\n",
        "print('{} percentage of the passengers are either below 10 or above 70 years'.format(agt))"
      ],
      "execution_count": 40,
      "outputs": [
        {
          "output_type": "stream",
          "text": [
            "6.9411764705882355 percentage of the passengers are either below 10 or above 70 years\n"
          ],
          "name": "stdout"
        }
      ]
    },
    {
      "cell_type": "code",
      "metadata": {
        "id": "djc2WmQ53oJr",
        "colab": {
          "base_uri": "https://localhost:8080/"
        },
        "outputId": "bb7b1148-6dca-4e3f-f993-180ba1f4dc96"
      },
      "source": [
        "#What percentage of passengers below 5 years are males\n",
        "be = (len(data[(data.age<5) & (data.sex=='male')] )/len(data)) * 100\n",
        "\n",
        "print('{:.2f} percentage of the passengers below 5 years are males'.format(be))\n",
        "#formatting to 2 decimal place is nicer, still remember how to do it?"
      ],
      "execution_count": 41,
      "outputs": [
        {
          "output_type": "stream",
          "text": [
            "2.24 percentage of the passengers below 5 years are males\n"
          ],
          "name": "stdout"
        }
      ]
    },
    {
      "cell_type": "markdown",
      "metadata": {
        "id": "OPpvyPq63oJs"
      },
      "source": [
        "### Visualizations"
      ]
    },
    {
      "cell_type": "markdown",
      "metadata": {
        "id": "di4y0FQR3oJt"
      },
      "source": [
        "**Univariate analysis(visualizing one variable/feature)**\n",
        "\n",
        "You may use histogram,barplot,pieplot,boxplot.etc as the case may be, and you can customized your visuals as much as you can"
      ]
    },
    {
      "cell_type": "code",
      "metadata": {
        "scrolled": true,
        "id": "TFjqYXck3oJt",
        "colab": {
          "base_uri": "https://localhost:8080/",
          "height": 313
        },
        "outputId": "c8d92cdf-b8ab-4385-cdf0-97af3e0c1e27"
      },
      "source": [
        "plt.hist(x='age',data=data,edgecolor='black')\n",
        "plt.title('Histogram Showing Age Distribution of Passengers')\n",
        "plt.xlabel('Age Groups')\n",
        "plt.ylabel('Count per Age Group')"
      ],
      "execution_count": 42,
      "outputs": [
        {
          "output_type": "execute_result",
          "data": {
            "text/plain": [
              "Text(0, 0.5, 'Count per Age Group')"
            ]
          },
          "metadata": {
            "tags": []
          },
          "execution_count": 42
        },
        {
          "output_type": "display_data",
          "data": {
            "image/png": "[encoded data removed]",
            "text/plain": [
              "<Figure size 432x288 with 1 Axes>"
            ]
          },
          "metadata": {
            "tags": [],
            "needs_background": "light"
          }
        }
      ]
    },
    {
      "cell_type": "code",
      "metadata": {
        "id": "F7xA_khQ3oJt",
        "colab": {
          "base_uri": "https://localhost:8080/",
          "height": 609
        },
        "outputId": "67ccdb56-ebf5-4c16-81b9-64f0b6cb7765"
      },
      "source": [
        "#size of figure\n",
        "plt.figure(figsize=(10,10))\n",
        "\n",
        "#Customizing the title\n",
        "plt.title('Pie plot showing the sex of passengers',fontdict={'fontsize':12,'fontweight':'bold','color':'purple'},loc='center')\n",
        "\n",
        "#Firts getting the value count,then plotting a pie chart.\n",
        "#explode gives the separation while autopct calculates respective percentage automatically\n",
        "data['sex'].value_counts().plot(kind='pie',explode=[0.05,0.05],autopct='%2.1f%%')"
      ],
      "execution_count": 46,
      "outputs": [
        {
          "output_type": "execute_result",
          "data": {
            "text/plain": [
              "<matplotlib.axes._subplots.AxesSubplot at 0x7f2b6a796750>"
            ]
          },
          "metadata": {
            "tags": []
          },
          "execution_count": 46
        },
        {
          "output_type": "display_data",
          "data": {
            "image/png": "[encoded data removed]",
            "text/plain": [
              "<Figure size 720x720 with 1 Axes>"
            ]
          },
          "metadata": {
            "tags": []
          }
        }
      ]
    },
    {
      "cell_type": "code",
      "metadata": {
        "scrolled": true,
        "id": "yPf6lLS13oJu",
        "colab": {
          "base_uri": "https://localhost:8080/",
          "height": 623
        },
        "outputId": "b3f222e1-e604-48fb-e121-21065ce8d666"
      },
      "source": [
        "#boxplot shows likely outliers with the dot\n",
        "plt.figure(figsize=(10,10))\n",
        "sns.boxplot(x='fare',data=data)"
      ],
      "execution_count": 47,
      "outputs": [
        {
          "output_type": "execute_result",
          "data": {
            "text/plain": [
              "<matplotlib.axes._subplots.AxesSubplot at 0x7f2b6a74f950>"
            ]
          },
          "metadata": {
            "tags": []
          },
          "execution_count": 47
        },
        {
          "output_type": "display_data",
          "data": {
            "image/png": "[encoded data removed]",
            "text/plain": [
              "<Figure size 720x720 with 1 Axes>"
            ]
          },
          "metadata": {
            "tags": [],
            "needs_background": "light"
          }
        }
      ]
    },
    {
      "cell_type": "code",
      "metadata": {
        "id": "xTrTbLwK3oJv",
        "outputId": "f1ddb2d8-4c39-48cc-fe9d-2670a8e0ce23"
      },
      "source": [
        "plt.figure(figsize=(10,10))\n",
        "sns.boxplot(x='age',data=data)"
      ],
      "execution_count": null,
      "outputs": [
        {
          "output_type": "execute_result",
          "data": {
            "text/plain": [
              "<matplotlib.axes._subplots.AxesSubplot at 0x206b01a8ba8>"
            ]
          },
          "metadata": {
            "tags": []
          },
          "execution_count": 33
        },
        {
          "output_type": "display_data",
          "data": {
            "image/png": "[encoded data removed]",
            "text/plain": [
              "<Figure size 720x720 with 1 Axes>"
            ]
          },
          "metadata": {
            "tags": [],
            "needs_background": "light"
          }
        }
      ]
    },
    {
      "cell_type": "code",
      "metadata": {
        "id": "5mwAqVdj3oJv"
      },
      "source": [
        ""
      ],
      "execution_count": null,
      "outputs": []
    },
    {
      "cell_type": "code",
      "metadata": {
        "id": "gXs_zOFd3oJw",
        "colab": {
          "base_uri": "https://localhost:8080/",
          "height": 639
        },
        "outputId": "f34c0cf7-f925-4191-8df8-102c54c62cce"
      },
      "source": [
        "plt.figure(figsize=(10,10))\n",
        "plt.title('Countplot showing survival for sex ')\n",
        "sns.countplot(x='sex',hue='survived',data=data,palette=['purple','blue'])\n",
        "#saturation can be added for different shades of your desired pallete colour\n",
        "#e.g saturation=0.3"
      ],
      "execution_count": 51,
      "outputs": [
        {
          "output_type": "execute_result",
          "data": {
            "text/plain": [
              "<matplotlib.axes._subplots.AxesSubplot at 0x7f2b6a488a90>"
            ]
          },
          "metadata": {
            "tags": []
          },
          "execution_count": 51
        },
        {
          "output_type": "display_data",
          "data": {
            "image/png": "[encoded data removed]",
            "text/plain": [
              "<Figure size 720x720 with 1 Axes>"
            ]
          },
          "metadata": {
            "tags": [],
            "needs_background": "light"
          }
        }
      ]
    },
    {
      "cell_type": "code",
      "metadata": {
        "id": "-8DcExrGLAXG"
      },
      "source": [
        ""
      ],
      "execution_count": null,
      "outputs": []
    },
    {
      "cell_type": "code",
      "metadata": {
        "id": "WDablkx93oJw"
      },
      "source": [
        ""
      ],
      "execution_count": null,
      "outputs": []
    },
    {
      "cell_type": "code",
      "metadata": {
        "scrolled": true,
        "id": "dc41P5uL3oJw",
        "colab": {
          "base_uri": "https://localhost:8080/",
          "height": 639
        },
        "outputId": "ef131ce4-4e37-44e7-a47c-6695b6d8d7ee"
      },
      "source": [
        "plt.figure(figsize=(10,10))\n",
        "\n",
        "#subplot allows to have multiple plots at the same time,\n",
        "#subplot(row,column,panel). We'll use 2 rows and 1 column here.This is panel 1\n",
        "plt.subplot(2,1,1)\n",
        "plt.title('Countplot for sibsp ')\n",
        "sns.countplot(x='sibsp',data=data)\n",
        "\n",
        "#This is panel 2\n",
        "plt.subplot(2,1,2)\n",
        "plt.title('Countplot for parch ')\n",
        "sns.countplot(x='parch',data=data)"
      ],
      "execution_count": 50,
      "outputs": [
        {
          "output_type": "execute_result",
          "data": {
            "text/plain": [
              "<matplotlib.axes._subplots.AxesSubplot at 0x7f2b6a601850>"
            ]
          },
          "metadata": {
            "tags": []
          },
          "execution_count": 50
        },
        {
          "output_type": "display_data",
          "data": {
            "image/png": "[encoded data removed]",
            "text/plain": [
              "<Figure size 720x720 with 2 Axes>"
            ]
          },
          "metadata": {
            "tags": [],
            "needs_background": "light"
          }
        }
      ]
    },
    {
      "cell_type": "markdown",
      "metadata": {
        "id": "2-CTEczp3oJx"
      },
      "source": [
        "**Bivariate analysis(Comparing two features)**"
      ]
    },
    {
      "cell_type": "code",
      "metadata": {
        "id": "XuDAG2S93oJx",
        "colab": {
          "base_uri": "https://localhost:8080/",
          "height": 313
        },
        "outputId": "17b828f8-dede-40dc-a25b-bf95a68e9028"
      },
      "source": [
        "plt.scatter(x='age',y='fare',data=data, color= 'violet')\n",
        "plt.title('Scatter plot of Age versus Fare')\n",
        "plt.xlabel('Age')\n",
        "plt.ylabel('Fare')"
      ],
      "execution_count": 64,
      "outputs": [
        {
          "output_type": "execute_result",
          "data": {
            "text/plain": [
              "Text(0, 0.5, 'Fare')"
            ]
          },
          "metadata": {
            "tags": []
          },
          "execution_count": 64
        },
        {
          "output_type": "display_data",
          "data": {
            "image/png": "[encoded data removed]",
            "text/plain": [
              "<Figure size 432x288 with 1 Axes>"
            ]
          },
          "metadata": {
            "tags": [],
            "needs_background": "light"
          }
        }
      ]
    },
    {
      "cell_type": "code",
      "metadata": {
        "id": "Or2_OsDs3oJx",
        "colab": {
          "base_uri": "https://localhost:8080/",
          "height": 623
        },
        "outputId": "0d6a020c-3f04-47ad-8143-0678f211b323"
      },
      "source": [
        "plt.figure(figsize=(10,10))\n",
        "data[data['sex']=='female']['fare'].plot.hist(bins=10,color='red',edgecolor='black',label='female')\n",
        "data[data['sex']=='male']['fare'].plot.hist(bins=10,color='blue',alpha=0.3,edgecolor='black',label='male')\n",
        "\n",
        "plt.xlabel('Fare')\n",
        "plt.legend()"
      ],
      "execution_count": 65,
      "outputs": [
        {
          "output_type": "execute_result",
          "data": {
            "text/plain": [
              "<matplotlib.legend.Legend at 0x7f2b6a0c7810>"
            ]
          },
          "metadata": {
            "tags": []
          },
          "execution_count": 65
        },
        {
          "output_type": "display_data",
          "data": {
            "image/png": "[encoded data removed]",
            "text/plain": [
              "<Figure size 720x720 with 1 Axes>"
            ]
          },
          "metadata": {
            "tags": [],
            "needs_background": "light"
          }
        }
      ]
    },
    {
      "cell_type": "code",
      "metadata": {
        "id": "mvOKauOQ3oJx",
        "colab": {
          "base_uri": "https://localhost:8080/",
          "height": 623
        },
        "outputId": "19f41034-16b9-4d16-e0dd-23606054dc4a"
      },
      "source": [
        "plt.figure(figsize=(10,10))\n",
        "data[data['sex']=='female']['age'].plot.hist(bins=15,color='red',edgecolor='black',label='female')\n",
        "data[data['sex']=='male']['age'].plot.hist(bins=15,color='blue',alpha=0.3,edgecolor='black',label='male')\n",
        "\n",
        "plt.xlabel('Age')\n",
        "plt.legend()"
      ],
      "execution_count": 55,
      "outputs": [
        {
          "output_type": "execute_result",
          "data": {
            "text/plain": [
              "<matplotlib.legend.Legend at 0x7f2b6a6c7f90>"
            ]
          },
          "metadata": {
            "tags": []
          },
          "execution_count": 55
        },
        {
          "output_type": "display_data",
          "data": {
            "image/png": "[encoded data removed]",
            "text/plain": [
              "<Figure size 720x720 with 1 Axes>"
            ]
          },
          "metadata": {
            "tags": [],
            "needs_background": "light"
          }
        }
      ]
    },
    {
      "cell_type": "code",
      "metadata": {
        "id": "uRhyoPHA3oJy"
      },
      "source": [
        ""
      ],
      "execution_count": null,
      "outputs": []
    },
    {
      "cell_type": "code",
      "metadata": {
        "id": "a5sEDAd33oJy",
        "colab": {
          "base_uri": "https://localhost:8080/",
          "height": 656
        },
        "outputId": "922ce3f7-75e6-42eb-9e81-74155442610d"
      },
      "source": [
        "plt.figure(figsize=(10,10))\n",
        "sns.kdeplot(data.loc[(data['sex']=='female'),'age'],color='b',shade=True, Label='female')\n",
        "sns.kdeplot(data.loc[(data['sex']=='male'),'age'],color='r',shade=True, Label='male')\n",
        "\n",
        "plt.title('Kdeplot showing the probability of age groups')\n",
        "plt.xlabel('Age')\n",
        "plt.ylabel('Probality')\n",
        "plt.legend()"
      ],
      "execution_count": 66,
      "outputs": [
        {
          "output_type": "stream",
          "text": [
            "No handles with labels found to put in legend.\n"
          ],
          "name": "stderr"
        },
        {
          "output_type": "execute_result",
          "data": {
            "text/plain": [
              "<matplotlib.legend.Legend at 0x7f2b6a02d5d0>"
            ]
          },
          "metadata": {
            "tags": []
          },
          "execution_count": 66
        },
        {
          "output_type": "display_data",
          "data": {
            "image/png": "[encoded data removed]",
            "text/plain": [
              "<Figure size 720x720 with 1 Axes>"
            ]
          },
          "metadata": {
            "tags": [],
            "needs_background": "light"
          }
        }
      ]
    },
    {
      "cell_type": "markdown",
      "metadata": {
        "id": "OSwh5NcQ3oJy"
      },
      "source": [
        "### Feature Selection for Machine Learning"
      ]
    },
    {
      "cell_type": "markdown",
      "metadata": {
        "id": "SsNuSFTt3oJy"
      },
      "source": [
        "**Encoding(Converting categorical features to numeric features)**"
      ]
    },
    {
      "cell_type": "markdown",
      "metadata": {
        "id": "Q4kXVi9h3oJz"
      },
      "source": [
        "Categorical features like sex,embarked and home dest need to be converted to numbers for the machine to understand. There are ways to do this which include Manual Encoding, One-hot encoding, label encoding"
      ]
    },
    {
      "cell_type": "code",
      "metadata": {
        "id": "H-sRqUgH3oJz"
      },
      "source": [
        "#sex\n",
        "#Manual encoding\n",
        "\n",
        "data['sex']=data['sex'].replace('male','0')\n",
        "data['sex']=data['sex'].replace('female','1')\n",
        "\n",
        "#Then the type is converted to int\n",
        "data['sex']=data['sex'].astype('int')"
      ],
      "execution_count": 72,
      "outputs": []
    },
    {
      "cell_type": "code",
      "metadata": {
        "id": "ZETS6Oz93oJz",
        "colab": {
          "base_uri": "https://localhost:8080/",
          "height": 499
        },
        "outputId": "e9e092c4-ffc4-40cc-a685-1648baef12fe"
      },
      "source": [
        "#embarked\n",
        "#One-hot encoding\n",
        "\n",
        "data = pd.get_dummies(data=data,columns=['embarked'])\n",
        "\n",
        "#Let's see how it looks like now, see how embarked is now 3 new fearures\n",
        "data.head()"
      ],
      "execution_count": 73,
      "outputs": [
        {
          "output_type": "execute_result",
          "data": {
            "text/html": [
              "<div>\n",
              "<style scoped>\n",
              "    .dataframe tbody tr th:only-of-type {\n",
              "        vertical-align: middle;\n",
              "    }\n",
              "\n",
              "    .dataframe tbody tr th {\n",
              "        vertical-align: top;\n",
              "    }\n",
              "\n",
              "    .dataframe thead th {\n",
              "        text-align: right;\n",
              "    }\n",
              "</style>\n",
              "<table border=\"1\" class=\"dataframe\">\n",
              "  <thead>\n",
              "    <tr style=\"text-align: right;\">\n",
              "      <th></th>\n",
              "      <th>passenger_id</th>\n",
              "      <th>pclass</th>\n",
              "      <th>name</th>\n",
              "      <th>sex</th>\n",
              "      <th>age</th>\n",
              "      <th>sibsp</th>\n",
              "      <th>parch</th>\n",
              "      <th>ticket</th>\n",
              "      <th>fare</th>\n",
              "      <th>cabin</th>\n",
              "      <th>boat</th>\n",
              "      <th>body</th>\n",
              "      <th>home.dest</th>\n",
              "      <th>survived</th>\n",
              "      <th>embarked_C</th>\n",
              "      <th>embarked_Q</th>\n",
              "      <th>embarked_S</th>\n",
              "    </tr>\n",
              "  </thead>\n",
              "  <tbody>\n",
              "    <tr>\n",
              "      <th>0</th>\n",
              "      <td>1216</td>\n",
              "      <td>3</td>\n",
              "      <td>Smyth, Miss. Julia</td>\n",
              "      <td>1</td>\n",
              "      <td>NaN</td>\n",
              "      <td>0</td>\n",
              "      <td>0</td>\n",
              "      <td>335432</td>\n",
              "      <td>7.7333</td>\n",
              "      <td>NaN</td>\n",
              "      <td>13</td>\n",
              "      <td>NaN</td>\n",
              "      <td>NaN</td>\n",
              "      <td>1</td>\n",
              "      <td>0</td>\n",
              "      <td>1</td>\n",
              "      <td>0</td>\n",
              "    </tr>\n",
              "    <tr>\n",
              "      <th>1</th>\n",
              "      <td>699</td>\n",
              "      <td>3</td>\n",
              "      <td>Cacic, Mr. Luka</td>\n",
              "      <td>0</td>\n",
              "      <td>38.0</td>\n",
              "      <td>0</td>\n",
              "      <td>0</td>\n",
              "      <td>315089</td>\n",
              "      <td>8.6625</td>\n",
              "      <td>NaN</td>\n",
              "      <td>NaN</td>\n",
              "      <td>NaN</td>\n",
              "      <td>Croatia</td>\n",
              "      <td>0</td>\n",
              "      <td>0</td>\n",
              "      <td>0</td>\n",
              "      <td>1</td>\n",
              "    </tr>\n",
              "    <tr>\n",
              "      <th>2</th>\n",
              "      <td>1267</td>\n",
              "      <td>3</td>\n",
              "      <td>Van Impe, Mrs. Jean Baptiste (Rosalie Paula Go...</td>\n",
              "      <td>1</td>\n",
              "      <td>30.0</td>\n",
              "      <td>1</td>\n",
              "      <td>1</td>\n",
              "      <td>345773</td>\n",
              "      <td>24.1500</td>\n",
              "      <td>NaN</td>\n",
              "      <td>NaN</td>\n",
              "      <td>NaN</td>\n",
              "      <td>NaN</td>\n",
              "      <td>0</td>\n",
              "      <td>0</td>\n",
              "      <td>0</td>\n",
              "      <td>1</td>\n",
              "    </tr>\n",
              "    <tr>\n",
              "      <th>3</th>\n",
              "      <td>449</td>\n",
              "      <td>2</td>\n",
              "      <td>Hocking, Mrs. Elizabeth (Eliza Needs)</td>\n",
              "      <td>1</td>\n",
              "      <td>54.0</td>\n",
              "      <td>1</td>\n",
              "      <td>3</td>\n",
              "      <td>29105</td>\n",
              "      <td>23.0000</td>\n",
              "      <td>NaN</td>\n",
              "      <td>4</td>\n",
              "      <td>NaN</td>\n",
              "      <td>Cornwall / Akron, OH</td>\n",
              "      <td>1</td>\n",
              "      <td>0</td>\n",
              "      <td>0</td>\n",
              "      <td>1</td>\n",
              "    </tr>\n",
              "    <tr>\n",
              "      <th>4</th>\n",
              "      <td>576</td>\n",
              "      <td>2</td>\n",
              "      <td>Veal, Mr. James</td>\n",
              "      <td>0</td>\n",
              "      <td>40.0</td>\n",
              "      <td>0</td>\n",
              "      <td>0</td>\n",
              "      <td>28221</td>\n",
              "      <td>13.0000</td>\n",
              "      <td>NaN</td>\n",
              "      <td>NaN</td>\n",
              "      <td>NaN</td>\n",
              "      <td>Barre, Co Washington, VT</td>\n",
              "      <td>0</td>\n",
              "      <td>0</td>\n",
              "      <td>0</td>\n",
              "      <td>1</td>\n",
              "    </tr>\n",
              "  </tbody>\n",
              "</table>\n",
              "</div>"
            ],
            "text/plain": [
              "   passenger_id  pclass  ... embarked_Q  embarked_S\n",
              "0          1216       3  ...          1           0\n",
              "1           699       3  ...          0           1\n",
              "2          1267       3  ...          0           1\n",
              "3           449       2  ...          0           1\n",
              "4           576       2  ...          0           1\n",
              "\n",
              "[5 rows x 17 columns]"
            ]
          },
          "metadata": {
            "tags": []
          },
          "execution_count": 73
        }
      ]
    },
    {
      "cell_type": "code",
      "metadata": {
        "id": "5IP6A42M3oJ0"
      },
      "source": [
        "#home dest\n",
        "#Label encoding\n",
        "\n",
        "from sklearn.preprocessing import LabelEncoder\n",
        "\n",
        "#creating an instance like this\n",
        "le = LabelEncoder()\n",
        "\n",
        "#Then fitting to the feature to transform\n",
        "data['home.dest']=le.fit_transform(data['home.dest'])"
      ],
      "execution_count": null,
      "outputs": []
    },
    {
      "cell_type": "code",
      "metadata": {
        "id": "xXxvTnrc3oJ0",
        "outputId": "2aaeacd0-db63-496b-87f0-533ee026658e"
      },
      "source": [
        "#home.dest now converted alphabetically into numbers\n",
        "data.head()"
      ],
      "execution_count": null,
      "outputs": [
        {
          "output_type": "execute_result",
          "data": {
            "text/html": [
              "<div>\n",
              "<style scoped>\n",
              "    .dataframe tbody tr th:only-of-type {\n",
              "        vertical-align: middle;\n",
              "    }\n",
              "\n",
              "    .dataframe tbody tr th {\n",
              "        vertical-align: top;\n",
              "    }\n",
              "\n",
              "    .dataframe thead th {\n",
              "        text-align: right;\n",
              "    }\n",
              "</style>\n",
              "<table border=\"1\" class=\"dataframe\">\n",
              "  <thead>\n",
              "    <tr style=\"text-align: right;\">\n",
              "      <th></th>\n",
              "      <th>passenger_id</th>\n",
              "      <th>pclass</th>\n",
              "      <th>name</th>\n",
              "      <th>sex</th>\n",
              "      <th>age</th>\n",
              "      <th>sibsp</th>\n",
              "      <th>parch</th>\n",
              "      <th>ticket</th>\n",
              "      <th>fare</th>\n",
              "      <th>home.dest</th>\n",
              "      <th>survived</th>\n",
              "      <th>embarked_C</th>\n",
              "      <th>embarked_Q</th>\n",
              "      <th>embarked_S</th>\n",
              "    </tr>\n",
              "  </thead>\n",
              "  <tbody>\n",
              "    <tr>\n",
              "      <th>0</th>\n",
              "      <td>1216</td>\n",
              "      <td>3</td>\n",
              "      <td>Smyth, Miss. Julia</td>\n",
              "      <td>1</td>\n",
              "      <td>28.0</td>\n",
              "      <td>0</td>\n",
              "      <td>0</td>\n",
              "      <td>335432</td>\n",
              "      <td>7.7333</td>\n",
              "      <td>171</td>\n",
              "      <td>1</td>\n",
              "      <td>0</td>\n",
              "      <td>1</td>\n",
              "      <td>0</td>\n",
              "    </tr>\n",
              "    <tr>\n",
              "      <th>1</th>\n",
              "      <td>699</td>\n",
              "      <td>3</td>\n",
              "      <td>Cacic, Mr. Luka</td>\n",
              "      <td>0</td>\n",
              "      <td>38.0</td>\n",
              "      <td>0</td>\n",
              "      <td>0</td>\n",
              "      <td>315089</td>\n",
              "      <td>8.6625</td>\n",
              "      <td>56</td>\n",
              "      <td>0</td>\n",
              "      <td>0</td>\n",
              "      <td>0</td>\n",
              "      <td>1</td>\n",
              "    </tr>\n",
              "    <tr>\n",
              "      <th>2</th>\n",
              "      <td>1267</td>\n",
              "      <td>3</td>\n",
              "      <td>Van Impe, Mrs. Jean Baptiste (Rosalie Paula Go...</td>\n",
              "      <td>1</td>\n",
              "      <td>30.0</td>\n",
              "      <td>1</td>\n",
              "      <td>1</td>\n",
              "      <td>345773</td>\n",
              "      <td>24.1500</td>\n",
              "      <td>171</td>\n",
              "      <td>0</td>\n",
              "      <td>0</td>\n",
              "      <td>0</td>\n",
              "      <td>1</td>\n",
              "    </tr>\n",
              "    <tr>\n",
              "      <th>3</th>\n",
              "      <td>449</td>\n",
              "      <td>2</td>\n",
              "      <td>Hocking, Mrs. Elizabeth (Eliza Needs)</td>\n",
              "      <td>1</td>\n",
              "      <td>54.0</td>\n",
              "      <td>1</td>\n",
              "      <td>3</td>\n",
              "      <td>29105</td>\n",
              "      <td>23.0000</td>\n",
              "      <td>52</td>\n",
              "      <td>1</td>\n",
              "      <td>0</td>\n",
              "      <td>0</td>\n",
              "      <td>1</td>\n",
              "    </tr>\n",
              "    <tr>\n",
              "      <th>4</th>\n",
              "      <td>576</td>\n",
              "      <td>2</td>\n",
              "      <td>Veal, Mr. James</td>\n",
              "      <td>0</td>\n",
              "      <td>40.0</td>\n",
              "      <td>0</td>\n",
              "      <td>0</td>\n",
              "      <td>28221</td>\n",
              "      <td>13.0000</td>\n",
              "      <td>11</td>\n",
              "      <td>0</td>\n",
              "      <td>0</td>\n",
              "      <td>0</td>\n",
              "      <td>1</td>\n",
              "    </tr>\n",
              "  </tbody>\n",
              "</table>\n",
              "</div>"
            ],
            "text/plain": [
              "   passenger_id  pclass                                               name  \\\n",
              "0          1216       3                                 Smyth, Miss. Julia   \n",
              "1           699       3                                    Cacic, Mr. Luka   \n",
              "2          1267       3  Van Impe, Mrs. Jean Baptiste (Rosalie Paula Go...   \n",
              "3           449       2              Hocking, Mrs. Elizabeth (Eliza Needs)   \n",
              "4           576       2                                    Veal, Mr. James   \n",
              "\n",
              "   sex   age  sibsp  parch  ticket     fare  home.dest  survived  embarked_C  \\\n",
              "0    1  28.0      0      0  335432   7.7333        171         1           0   \n",
              "1    0  38.0      0      0  315089   8.6625         56         0           0   \n",
              "2    1  30.0      1      1  345773  24.1500        171         0           0   \n",
              "3    1  54.0      1      3   29105  23.0000         52         1           0   \n",
              "4    0  40.0      0      0   28221  13.0000         11         0           0   \n",
              "\n",
              "   embarked_Q  embarked_S  \n",
              "0           1           0  \n",
              "1           0           1  \n",
              "2           0           1  \n",
              "3           0           1  \n",
              "4           0           1  "
            ]
          },
          "metadata": {
            "tags": []
          },
          "execution_count": 43
        }
      ]
    },
    {
      "cell_type": "code",
      "metadata": {
        "id": "WsfF9bt73oJ0"
      },
      "source": [
        "#Then let's drop some features that may not be needed for now. \n",
        "data=data.drop(['passenger_id','name','ticket'],axis=1)"
      ],
      "execution_count": null,
      "outputs": []
    },
    {
      "cell_type": "code",
      "metadata": {
        "id": "2El597C83oJ1",
        "outputId": "89f57475-b0b6-4649-a50e-4f4325c79902"
      },
      "source": [
        "#checking to see if they really dropped, and all features numerical\n",
        "data.head()"
      ],
      "execution_count": null,
      "outputs": [
        {
          "output_type": "execute_result",
          "data": {
            "text/html": [
              "<div>\n",
              "<style scoped>\n",
              "    .dataframe tbody tr th:only-of-type {\n",
              "        vertical-align: middle;\n",
              "    }\n",
              "\n",
              "    .dataframe tbody tr th {\n",
              "        vertical-align: top;\n",
              "    }\n",
              "\n",
              "    .dataframe thead th {\n",
              "        text-align: right;\n",
              "    }\n",
              "</style>\n",
              "<table border=\"1\" class=\"dataframe\">\n",
              "  <thead>\n",
              "    <tr style=\"text-align: right;\">\n",
              "      <th></th>\n",
              "      <th>pclass</th>\n",
              "      <th>sex</th>\n",
              "      <th>age</th>\n",
              "      <th>sibsp</th>\n",
              "      <th>parch</th>\n",
              "      <th>fare</th>\n",
              "      <th>home.dest</th>\n",
              "      <th>survived</th>\n",
              "      <th>embarked_C</th>\n",
              "      <th>embarked_Q</th>\n",
              "      <th>embarked_S</th>\n",
              "    </tr>\n",
              "  </thead>\n",
              "  <tbody>\n",
              "    <tr>\n",
              "      <th>0</th>\n",
              "      <td>3</td>\n",
              "      <td>1</td>\n",
              "      <td>28.0</td>\n",
              "      <td>0</td>\n",
              "      <td>0</td>\n",
              "      <td>7.7333</td>\n",
              "      <td>171</td>\n",
              "      <td>1</td>\n",
              "      <td>0</td>\n",
              "      <td>1</td>\n",
              "      <td>0</td>\n",
              "    </tr>\n",
              "    <tr>\n",
              "      <th>1</th>\n",
              "      <td>3</td>\n",
              "      <td>0</td>\n",
              "      <td>38.0</td>\n",
              "      <td>0</td>\n",
              "      <td>0</td>\n",
              "      <td>8.6625</td>\n",
              "      <td>56</td>\n",
              "      <td>0</td>\n",
              "      <td>0</td>\n",
              "      <td>0</td>\n",
              "      <td>1</td>\n",
              "    </tr>\n",
              "    <tr>\n",
              "      <th>2</th>\n",
              "      <td>3</td>\n",
              "      <td>1</td>\n",
              "      <td>30.0</td>\n",
              "      <td>1</td>\n",
              "      <td>1</td>\n",
              "      <td>24.1500</td>\n",
              "      <td>171</td>\n",
              "      <td>0</td>\n",
              "      <td>0</td>\n",
              "      <td>0</td>\n",
              "      <td>1</td>\n",
              "    </tr>\n",
              "    <tr>\n",
              "      <th>3</th>\n",
              "      <td>2</td>\n",
              "      <td>1</td>\n",
              "      <td>54.0</td>\n",
              "      <td>1</td>\n",
              "      <td>3</td>\n",
              "      <td>23.0000</td>\n",
              "      <td>52</td>\n",
              "      <td>1</td>\n",
              "      <td>0</td>\n",
              "      <td>0</td>\n",
              "      <td>1</td>\n",
              "    </tr>\n",
              "    <tr>\n",
              "      <th>4</th>\n",
              "      <td>2</td>\n",
              "      <td>0</td>\n",
              "      <td>40.0</td>\n",
              "      <td>0</td>\n",
              "      <td>0</td>\n",
              "      <td>13.0000</td>\n",
              "      <td>11</td>\n",
              "      <td>0</td>\n",
              "      <td>0</td>\n",
              "      <td>0</td>\n",
              "      <td>1</td>\n",
              "    </tr>\n",
              "  </tbody>\n",
              "</table>\n",
              "</div>"
            ],
            "text/plain": [
              "   pclass  sex   age  sibsp  parch     fare  home.dest  survived  embarked_C  \\\n",
              "0       3    1  28.0      0      0   7.7333        171         1           0   \n",
              "1       3    0  38.0      0      0   8.6625         56         0           0   \n",
              "2       3    1  30.0      1      1  24.1500        171         0           0   \n",
              "3       2    1  54.0      1      3  23.0000         52         1           0   \n",
              "4       2    0  40.0      0      0  13.0000         11         0           0   \n",
              "\n",
              "   embarked_Q  embarked_S  \n",
              "0           1           0  \n",
              "1           0           1  \n",
              "2           0           1  \n",
              "3           0           1  \n",
              "4           0           1  "
            ]
          },
          "metadata": {
            "tags": []
          },
          "execution_count": 45
        }
      ]
    },
    {
      "cell_type": "markdown",
      "metadata": {
        "id": "CbMVMUrw3oJ1"
      },
      "source": [
        "Now we need to separate features into input feature/independent variables which is usually denoted by X, and into target/dependent variable usually denoted by y"
      ]
    },
    {
      "cell_type": "code",
      "metadata": {
        "id": "arWjsqQU3oJ1"
      },
      "source": [
        "#for X, we simply drop the target from the features\n",
        "X = data.drop('survived',axis=1)\n",
        "\n",
        "#for y\n",
        "y = data['survived']"
      ],
      "execution_count": null,
      "outputs": []
    },
    {
      "cell_type": "code",
      "metadata": {
        "id": "RS532syH3oJ2"
      },
      "source": [
        ""
      ],
      "execution_count": null,
      "outputs": []
    },
    {
      "cell_type": "markdown",
      "metadata": {
        "id": "iUKeBMD73oJ2"
      },
      "source": [
        "Splitting into train and test(for validation). A module in sklearn called train_test_split does this for us. By convention, you split 80% to 20% for train and test respectively"
      ]
    },
    {
      "cell_type": "code",
      "metadata": {
        "id": "wxOQFoo33oJ2"
      },
      "source": [
        "#spliting the X and y into train and test sets\n",
        "from sklearn.model_selection import train_test_split\n",
        "X_train,X_test,y_train,y_test=train_test_split(X,y,train_size=0.8,random_state=7,shuffle=True,stratify=y)"
      ],
      "execution_count": null,
      "outputs": []
    },
    {
      "cell_type": "markdown",
      "metadata": {
        "id": "aSGN0VQm3oJ2"
      },
      "source": [
        "### Model Building"
      ]
    },
    {
      "cell_type": "markdown",
      "metadata": {
        "id": "7Pi2a_Gh3oJ2"
      },
      "source": [
        "Let's try out some classifiers: Logistic Regression, Decision Tree Classifier, Support Vector Machine, Random Forest, Gradient Boosting"
      ]
    },
    {
      "cell_type": "code",
      "metadata": {
        "scrolled": true,
        "id": "lqonTzqw3oJ3",
        "outputId": "55521eea-828d-4c2c-89c3-29bb483af496"
      },
      "source": [
        "#import classifier\n",
        "from sklearn.linear_model import LogisticRegression\n",
        "\n",
        "#Instantiate\n",
        "lr = LogisticRegression()\n",
        "\n",
        "#fit to X_train and y_train\n",
        "lr.fit(X_train,y_train)\n",
        "\n",
        "#check score of training\n",
        "print('Score of train:',lr.score(X_train,y_train))\n",
        "\n",
        "#check score of test set\n",
        "print('Score of test',lr.score(X_test,y_test))"
      ],
      "execution_count": null,
      "outputs": [
        {
          "output_type": "stream",
          "text": [
            "Score of train: 0.7867647058823529\n",
            "Score of test 0.8294117647058824\n"
          ],
          "name": "stdout"
        }
      ]
    },
    {
      "cell_type": "markdown",
      "metadata": {
        "id": "QAMWRNVH3oJ3"
      },
      "source": [
        "For logistic, test has higher score than train, model is not likely overfitting"
      ]
    },
    {
      "cell_type": "code",
      "metadata": {
        "scrolled": true,
        "id": "SihvwFlX3oJ3",
        "outputId": "4c4ad32f-2604-4fe5-c4a9-aaf7a2c7d2f6"
      },
      "source": [
        "from sklearn.tree import DecisionTreeClassifier\n",
        "tree= DecisionTreeClassifier()\n",
        "\n",
        "tree.fit(X_train,y_train)\n",
        "\n",
        "print('Score of train:',tree.score(X_train,y_train))\n",
        "print('Score of test',tree.score(X_test,y_test))"
      ],
      "execution_count": null,
      "outputs": [
        {
          "output_type": "stream",
          "text": [
            "Score of train: 0.9852941176470589\n",
            "Score of test 0.8235294117647058\n"
          ],
          "name": "stdout"
        }
      ]
    },
    {
      "cell_type": "markdown",
      "metadata": {
        "id": "153mAfVB3oJ3"
      },
      "source": [
        "Big difference is scores, sign of overfitting"
      ]
    },
    {
      "cell_type": "code",
      "metadata": {
        "id": "0SLMGd4N3oJ4",
        "outputId": "c51ea314-422e-4b86-afec-30bd790325dc"
      },
      "source": [
        "from sklearn.svm import SVC\n",
        "svc= SVC()\n",
        "\n",
        "svc.fit(X_train,y_train)\n",
        "\n",
        "print('Score of train:',svc.score(X_train,y_train))\n",
        "print('Score of test',svc.score(X_test,y_test))"
      ],
      "execution_count": null,
      "outputs": [
        {
          "output_type": "stream",
          "text": [
            "Score of train: 0.6779411764705883\n",
            "Score of test 0.6941176470588235\n"
          ],
          "name": "stdout"
        }
      ]
    },
    {
      "cell_type": "markdown",
      "metadata": {
        "id": "Viq2-bOF3oJ4"
      },
      "source": [
        "support vector classifier performing below expectation here, showing sign of underfitting, it needs to learn more"
      ]
    },
    {
      "cell_type": "code",
      "metadata": {
        "scrolled": true,
        "id": "rd05qgUN3oJ4",
        "outputId": "c9dbd75b-f389-4508-b8c7-c7b775af6930"
      },
      "source": [
        "from sklearn.ensemble import RandomForestClassifier\n",
        "rf= RandomForestClassifier()\n",
        "\n",
        "rf.fit(X_train,y_train)\n",
        "\n",
        "print('Score of train:',rf.score(X_train,y_train))\n",
        "print('Score of test',rf.score(X_test,y_test))"
      ],
      "execution_count": null,
      "outputs": [
        {
          "output_type": "stream",
          "text": [
            "Score of train: 0.9852941176470589\n",
            "Score of test 0.8588235294117647\n"
          ],
          "name": "stdout"
        }
      ]
    },
    {
      "cell_type": "markdown",
      "metadata": {
        "id": "Iun00Apw3oJ4"
      },
      "source": [
        "Good train score, but less test score. Overfitting too"
      ]
    },
    {
      "cell_type": "code",
      "metadata": {
        "id": "MjUmRYIJ3oJ5",
        "outputId": "b3971c32-401e-4c68-9eb9-1274f0601a73"
      },
      "source": [
        "from sklearn.ensemble import GradientBoostingClassifier\n",
        "gb= GradientBoostingClassifier()\n",
        "\n",
        "gb.fit(X_train,y_train)\n",
        "\n",
        "print('Score of train:',gb.score(X_train,y_train))\n",
        "print('Score of test',gb.score(X_test,y_test))"
      ],
      "execution_count": null,
      "outputs": [
        {
          "output_type": "stream",
          "text": [
            "Score of train: 0.8897058823529411\n",
            "Score of test 0.8705882352941177\n"
          ],
          "name": "stdout"
        }
      ]
    },
    {
      "cell_type": "markdown",
      "metadata": {
        "id": "xrxdmmE33oJ5"
      },
      "source": [
        "Gradient Boosting is not overfitting, and has the higher score out of the classifiers here"
      ]
    },
    {
      "cell_type": "code",
      "metadata": {
        "id": "ZmpdL9Ic3oJ5",
        "outputId": "214ee08a-ce98-42fb-dab4-358202e2453c"
      },
      "source": [
        "X_train[:1]"
      ],
      "execution_count": null,
      "outputs": [
        {
          "output_type": "execute_result",
          "data": {
            "text/html": [
              "<div>\n",
              "<style scoped>\n",
              "    .dataframe tbody tr th:only-of-type {\n",
              "        vertical-align: middle;\n",
              "    }\n",
              "\n",
              "    .dataframe tbody tr th {\n",
              "        vertical-align: top;\n",
              "    }\n",
              "\n",
              "    .dataframe thead th {\n",
              "        text-align: right;\n",
              "    }\n",
              "</style>\n",
              "<table border=\"1\" class=\"dataframe\">\n",
              "  <thead>\n",
              "    <tr style=\"text-align: right;\">\n",
              "      <th></th>\n",
              "      <th>pclass</th>\n",
              "      <th>sex</th>\n",
              "      <th>age</th>\n",
              "      <th>sibsp</th>\n",
              "      <th>parch</th>\n",
              "      <th>fare</th>\n",
              "      <th>home.dest</th>\n",
              "      <th>embarked_C</th>\n",
              "      <th>embarked_Q</th>\n",
              "      <th>embarked_S</th>\n",
              "    </tr>\n",
              "  </thead>\n",
              "  <tbody>\n",
              "    <tr>\n",
              "      <th>759</th>\n",
              "      <td>1</td>\n",
              "      <td>0</td>\n",
              "      <td>0.9167</td>\n",
              "      <td>1</td>\n",
              "      <td>2</td>\n",
              "      <td>151.55</td>\n",
              "      <td>165</td>\n",
              "      <td>0</td>\n",
              "      <td>0</td>\n",
              "      <td>1</td>\n",
              "    </tr>\n",
              "  </tbody>\n",
              "</table>\n",
              "</div>"
            ],
            "text/plain": [
              "     pclass  sex     age  sibsp  parch    fare  home.dest  embarked_C  \\\n",
              "759       1    0  0.9167      1      2  151.55        165           0   \n",
              "\n",
              "     embarked_Q  embarked_S  \n",
              "759           0           1  "
            ]
          },
          "metadata": {
            "tags": []
          },
          "execution_count": 53
        }
      ]
    },
    {
      "cell_type": "code",
      "metadata": {
        "id": "HZOscK8G3oJ5",
        "outputId": "f2ae9544-e79c-4636-aaa2-553318b6cbbc"
      },
      "source": [
        "predi = gb.predict(X_train[:1])\n",
        "predi"
      ],
      "execution_count": null,
      "outputs": [
        {
          "output_type": "execute_result",
          "data": {
            "text/plain": [
              "array([1], dtype=int64)"
            ]
          },
          "metadata": {
            "tags": []
          },
          "execution_count": 54
        }
      ]
    },
    {
      "cell_type": "markdown",
      "metadata": {
        "id": "xDBxF1n53oJ6"
      },
      "source": [
        "### Other techniques for improvement"
      ]
    },
    {
      "cell_type": "markdown",
      "metadata": {
        "id": "M_tB4qb_3oJ6"
      },
      "source": [
        "**Feature Engineering**\n",
        "This refers to creation of new addition features. For instance, sibsp(siblings and spouses) and parch(parents and children) can be summed up into a new feature called family_size which is addition of both features. Also age feature can be categorized into: children,adolescent,young adult,old adult. Feature engineering didn't improve our gb model in this case, so i'ev commented the code below. Remove the ''' to run the codes"
      ]
    },
    {
      "cell_type": "code",
      "metadata": {
        "scrolled": true,
        "id": "8aq-I1VC3oJ6",
        "outputId": "e4762139-379e-45cf-bef6-810dbca58d71"
      },
      "source": [
        "'''\n",
        "#family_size\n",
        "X_train['family_size'] = X_train['sibsp'] + X_train['parch']\n",
        "X_test['family_size'] = X_test['sibsp'] + X_test['parch']\n",
        "\n",
        "#We drop sibsp and parch as we have family size now\n",
        "X_train = X_train.drop(['sibsp','parch'],axis=1)\n",
        "X_test = X_test.drop(['sibsp','parch'],axis=1)\n",
        "\n",
        "#age categorization. We can use pd.cut here because age is continuous\n",
        "X_train['age_category'] = pd.cut(X_train['age'],bins=[0,18,40,80],labels=['Children','Youth','Adult'])\n",
        "X_test['age_category'] = pd.cut(X_test['age'],bins=[0,18,40,80],labels=['Children','Youth','Adult'])\n",
        "'''"
      ],
      "execution_count": null,
      "outputs": [
        {
          "output_type": "execute_result",
          "data": {
            "text/plain": [
              "\"\\n#family_size\\nX_train['family_size'] = X_train['sibsp'] + X_train['parch']\\nX_test['family_size'] = X_test['sibsp'] + X_test['parch']\\n\\n#We drop sibsp and parch as we have family size now\\nX_train = X_train.drop(['sibsp','parch'],axis=1)\\nX_test = X_test.drop(['sibsp','parch'],axis=1)\\n\\n#age categorization. We can use pd.cut here because age is continuous\\nX_train['age_category'] = pd.cut(X_train['age'],bins=[0,18,40,80],labels=['Children','Youth','Adult'])\\nX_test['age_category'] = pd.cut(X_test['age'],bins=[0,18,40,80],labels=['Children','Youth','Adult'])\\n\""
            ]
          },
          "metadata": {
            "tags": []
          },
          "execution_count": 55
        }
      ]
    },
    {
      "cell_type": "code",
      "metadata": {
        "id": "RdLQnMEI3oJ6",
        "outputId": "3657e026-f792-4e38-eebc-529807529206"
      },
      "source": [
        "'''\n",
        "#Then one-hot encoding age_category\n",
        "X_train = pd.get_dummies(data = X_train,columns=['age_category'])\n",
        "X_test = pd.get_dummies(data = X_test,columns=['age_category'])\n",
        "'''"
      ],
      "execution_count": null,
      "outputs": [
        {
          "output_type": "execute_result",
          "data": {
            "text/plain": [
              "\"\\n#Then one-hot encoding age_category\\nX_train = pd.get_dummies(data = X_train,columns=['age_category'])\\nX_test = pd.get_dummies(data = X_test,columns=['age_category'])\\n\""
            ]
          },
          "metadata": {
            "tags": []
          },
          "execution_count": 56
        }
      ]
    },
    {
      "cell_type": "code",
      "metadata": {
        "id": "aBXj7YLn3oJ7",
        "outputId": "2c467bf6-9df2-4df2-9b85-99515bc3f2f4"
      },
      "source": [
        "'''\n",
        "gbc= GradientBoostingClassifier()\n",
        "\n",
        "gbc.fit(X_train,y_train)\n",
        "\n",
        "print('Score of train:',gbc.score(X_train,y_train))\n",
        "print('Score of test',gbc.score(X_test,y_test))\n",
        "'''"
      ],
      "execution_count": null,
      "outputs": [
        {
          "output_type": "execute_result",
          "data": {
            "text/plain": [
              "\"\\ngbc= GradientBoostingClassifier()\\n\\ngbc.fit(X_train,y_train)\\n\\nprint('Score of train:',gbc.score(X_train,y_train))\\nprint('Score of test',gbc.score(X_test,y_test))\\n\""
            ]
          },
          "metadata": {
            "tags": []
          },
          "execution_count": 57
        }
      ]
    },
    {
      "cell_type": "markdown",
      "metadata": {
        "id": "gjcBm-6t3oJ7"
      },
      "source": [
        "**Modelling with scaling**"
      ]
    },
    {
      "cell_type": "markdown",
      "metadata": {
        "id": "rih5S7_a3oJ7"
      },
      "source": [
        "Scaling is a preprocessing stage in machine learning, that is, you need to process your data before feeding it into your machine. Scaling techniques include standardization, normalization. You may also use log transform"
      ]
    },
    {
      "cell_type": "code",
      "metadata": {
        "id": "xm7psHg23oJ7"
      },
      "source": [
        "from sklearn.preprocessing import StandardScaler\n",
        "from sklearn.preprocessing import MinMaxScaler\n",
        "from sklearn.preprocessing import RobustScaler\n",
        "from sklearn.preprocessing import Normalizer\n",
        "\n",
        "#We'll use only StandardScaler for demonstration, so we instantiate this\n",
        "std = StandardScaler()\n",
        "\n",
        "#Then fit and transform on features with large values\n",
        "#First fitting on X_train\n",
        "std.fit(X_train[['age','fare','home.dest']])\n",
        "\n",
        "#Then transforming on both X_train and X_test\n",
        "X_train[['age','fare','home.dest']] = std.transform(X_train[['age','fare','home.dest']])\n",
        "X_test[['age','fare','home.dest']] = std.transform(X_test[['age','fare','home.dest']])"
      ],
      "execution_count": null,
      "outputs": []
    },
    {
      "cell_type": "markdown",
      "metadata": {
        "id": "7CuViUJX3oJ8"
      },
      "source": [
        "So let's see if this will improve accuracy for logistic regression and SVC"
      ]
    },
    {
      "cell_type": "code",
      "metadata": {
        "id": "vQtA73n-3oJ8",
        "outputId": "d8d79ad5-d70b-4a18-bd9c-1f3daca6eeab"
      },
      "source": [
        "#Instantiate a second LogisticRegression\n",
        "lr2 = LogisticRegression()\n",
        "\n",
        "#fit to X_train and y_train\n",
        "lr2.fit(X_train,y_train)\n",
        "\n",
        "#check score of training\n",
        "print('Score of train:',lr2.score(X_train,y_train))\n",
        "\n",
        "#check score of test set\n",
        "print('Score of test',lr2.score(X_test,y_test))"
      ],
      "execution_count": null,
      "outputs": [
        {
          "output_type": "stream",
          "text": [
            "Score of train: 0.7852941176470588\n",
            "Score of test 0.8176470588235294\n"
          ],
          "name": "stdout"
        }
      ]
    },
    {
      "cell_type": "markdown",
      "metadata": {
        "id": "NNnVFTeM3oJ8"
      },
      "source": [
        "Scores didnt improve for Logistic Regression"
      ]
    },
    {
      "cell_type": "code",
      "metadata": {
        "id": "QmFSSWx53oJ8",
        "outputId": "b69cddf7-2265-4ef2-df5d-426f071c0bea"
      },
      "source": [
        "svc2= SVC()\n",
        "\n",
        "svc2.fit(X_train,y_train)\n",
        "\n",
        "print('Score of train:',svc2.score(X_train,y_train))\n",
        "print('Score of test',svc2.score(X_test,y_test))"
      ],
      "execution_count": null,
      "outputs": [
        {
          "output_type": "stream",
          "text": [
            "Score of train: 0.8073529411764706\n",
            "Score of test 0.8705882352941177\n"
          ],
          "name": "stdout"
        }
      ]
    },
    {
      "cell_type": "markdown",
      "metadata": {
        "id": "GeQ9LeX73oJ9"
      },
      "source": [
        "Wow see the huge improvement for Support Vector Classifier\n",
        "\n",
        "Now try for other classifiers"
      ]
    },
    {
      "cell_type": "markdown",
      "metadata": {
        "id": "Qbhk64nU3oJ9"
      },
      "source": [
        "**Modelling with feature importance**"
      ]
    },
    {
      "cell_type": "markdown",
      "metadata": {
        "id": "C-Xnirif3oJ9"
      },
      "source": [
        "We can rank feature in terms of importance to our label 'survived', that is, how much if feature contributed to survival. With feature importance, we may drop features with low importance and see if accuracy increases. We can use SelectKbest or check the feature importnace for each algorithm"
      ]
    },
    {
      "cell_type": "code",
      "metadata": {
        "scrolled": true,
        "id": "A7wVzyg93oJ9",
        "outputId": "37ad11a5-2224-4aa8-92c1-6662f28fa829"
      },
      "source": [
        "#Kbest\n",
        "\n",
        "from sklearn.feature_selection import SelectKBest\n",
        "from sklearn.feature_selection import chi2\n",
        "#X = data.drop('fradulent',axis=1)  #independent columns\n",
        "#y = data['fradulent']   #target column\n",
        "#apply SelectKBest class to extract top 10 best features\n",
        "bestfeatures = SelectKBest(score_func=chi2, k=10)\n",
        "fit = bestfeatures.fit(X,y)\n",
        "dfscores = pd.DataFrame(fit.scores_)\n",
        "dfcolumns = pd.DataFrame(X.columns)\n",
        "#concat two dataframes for better visualization \n",
        "featureScores = pd.concat([dfcolumns,dfscores],axis=1)\n",
        "featureScores.columns = ['Specs','Score']  #naming the dataframe columns\n",
        "print(featureScores.nlargest(10,'Score'))  #print 10 best features"
      ],
      "execution_count": null,
      "outputs": [
        {
          "output_type": "stream",
          "text": [
            "        Specs        Score\n",
            "5        fare  4551.520098\n",
            "1         sex   143.469161\n",
            "6   home.dest    92.357440\n",
            "0      pclass    27.912465\n",
            "7  embarked_C    16.753173\n",
            "4       parch     6.013870\n",
            "2         age     5.557649\n",
            "9  embarked_S     4.287525\n",
            "3       sibsp     4.067190\n",
            "8  embarked_Q     0.190963\n"
          ],
          "name": "stdout"
        }
      ]
    },
    {
      "cell_type": "markdown",
      "metadata": {
        "id": "V-eC6ErW3oJ9"
      },
      "source": [
        "fare and sex most important here"
      ]
    },
    {
      "cell_type": "code",
      "metadata": {
        "id": "9jjLUXwI3oJ-"
      },
      "source": [
        "#Feature importance of algorithm, for instance gradient boosting"
      ],
      "execution_count": null,
      "outputs": []
    },
    {
      "cell_type": "code",
      "metadata": {
        "id": "wpUeNOLv3oJ-",
        "outputId": "3e559ccb-27a6-42af-ed6f-80af88cfbc0e"
      },
      "source": [
        "#This is an array, will need to convert to dataframe to add column names\n",
        "gb.feature_importances_"
      ],
      "execution_count": null,
      "outputs": [
        {
          "output_type": "execute_result",
          "data": {
            "text/plain": [
              "array([0.11924151, 0.38485184, 0.15767552, 0.0685288 , 0.00649787,\n",
              "       0.15482061, 0.08791246, 0.01211952, 0.00375117, 0.0046007 ])"
            ]
          },
          "metadata": {
            "tags": []
          },
          "execution_count": 63
        }
      ]
    },
    {
      "cell_type": "code",
      "metadata": {
        "id": "ZxBhDhKZ3oJ-"
      },
      "source": [
        "gb_feature_importances = pd.DataFrame(gb.feature_importances_,index=X.columns.tolist())"
      ],
      "execution_count": null,
      "outputs": []
    },
    {
      "cell_type": "code",
      "metadata": {
        "id": "NYYT7Iij3oJ-",
        "outputId": "4fd476df-2888-477b-dc35-efa8715f6441"
      },
      "source": [
        "gb_feature_importances"
      ],
      "execution_count": null,
      "outputs": [
        {
          "output_type": "execute_result",
          "data": {
            "text/html": [
              "<div>\n",
              "<style scoped>\n",
              "    .dataframe tbody tr th:only-of-type {\n",
              "        vertical-align: middle;\n",
              "    }\n",
              "\n",
              "    .dataframe tbody tr th {\n",
              "        vertical-align: top;\n",
              "    }\n",
              "\n",
              "    .dataframe thead th {\n",
              "        text-align: right;\n",
              "    }\n",
              "</style>\n",
              "<table border=\"1\" class=\"dataframe\">\n",
              "  <thead>\n",
              "    <tr style=\"text-align: right;\">\n",
              "      <th></th>\n",
              "      <th>0</th>\n",
              "    </tr>\n",
              "  </thead>\n",
              "  <tbody>\n",
              "    <tr>\n",
              "      <th>pclass</th>\n",
              "      <td>0.119242</td>\n",
              "    </tr>\n",
              "    <tr>\n",
              "      <th>sex</th>\n",
              "      <td>0.384852</td>\n",
              "    </tr>\n",
              "    <tr>\n",
              "      <th>age</th>\n",
              "      <td>0.157676</td>\n",
              "    </tr>\n",
              "    <tr>\n",
              "      <th>sibsp</th>\n",
              "      <td>0.068529</td>\n",
              "    </tr>\n",
              "    <tr>\n",
              "      <th>parch</th>\n",
              "      <td>0.006498</td>\n",
              "    </tr>\n",
              "    <tr>\n",
              "      <th>fare</th>\n",
              "      <td>0.154821</td>\n",
              "    </tr>\n",
              "    <tr>\n",
              "      <th>home.dest</th>\n",
              "      <td>0.087912</td>\n",
              "    </tr>\n",
              "    <tr>\n",
              "      <th>embarked_C</th>\n",
              "      <td>0.012120</td>\n",
              "    </tr>\n",
              "    <tr>\n",
              "      <th>embarked_Q</th>\n",
              "      <td>0.003751</td>\n",
              "    </tr>\n",
              "    <tr>\n",
              "      <th>embarked_S</th>\n",
              "      <td>0.004601</td>\n",
              "    </tr>\n",
              "  </tbody>\n",
              "</table>\n",
              "</div>"
            ],
            "text/plain": [
              "                   0\n",
              "pclass      0.119242\n",
              "sex         0.384852\n",
              "age         0.157676\n",
              "sibsp       0.068529\n",
              "parch       0.006498\n",
              "fare        0.154821\n",
              "home.dest   0.087912\n",
              "embarked_C  0.012120\n",
              "embarked_Q  0.003751\n",
              "embarked_S  0.004601"
            ]
          },
          "metadata": {
            "tags": []
          },
          "execution_count": 65
        }
      ]
    },
    {
      "cell_type": "code",
      "metadata": {
        "scrolled": true,
        "id": "2RaQ81i23oJ_",
        "outputId": "307ad954-6dcc-4021-e0b0-5e57a233c66c"
      },
      "source": [
        "#Feature importance of gradient boosting\n",
        "plt.figure(figsize=(12,10))\n",
        "plt.plot(gb_feature_importances,'o')"
      ],
      "execution_count": null,
      "outputs": [
        {
          "output_type": "execute_result",
          "data": {
            "text/plain": [
              "[<matplotlib.lines.Line2D at 0x206b18e0208>]"
            ]
          },
          "metadata": {
            "tags": []
          },
          "execution_count": 66
        },
        {
          "output_type": "display_data",
          "data": {
            "image/png": "[encoded data removed]",
            "text/plain": [
              "<Figure size 864x720 with 1 Axes>"
            ]
          },
          "metadata": {
            "tags": [],
            "needs_background": "light"
          }
        }
      ]
    },
    {
      "cell_type": "markdown",
      "metadata": {
        "id": "KPDubRNu3oJ_"
      },
      "source": [
        "sex,pclass,age and fare are most important for gradient boosting\n",
        "\n",
        "Will remove the least important features: parch, embarked_C,embarked_Q and embarked_S to see if accuracy improves"
      ]
    },
    {
      "cell_type": "code",
      "metadata": {
        "scrolled": true,
        "id": "VUzS5Qal3oKA",
        "outputId": "6cb0ea96-8d0d-4a45-aebf-eb5ecef1429d"
      },
      "source": [
        "#dropping those columns\n",
        "new_X_train = X_train.drop(['parch', 'embarked_C','embarked_Q','embarked_S'],axis=1)\n",
        "new_X_test = X_test.drop(['parch', 'embarked_C','embarked_Q','embarked_S'],axis=1)\n",
        "\n",
        "gb2 = GradientBoostingClassifier()\n",
        "\n",
        "gb.fit(X_train,y_train)\n",
        "gb2.fit(new_X_train,y_train)\n",
        "\n",
        "#initial scores\n",
        "print('Score of train:',gb.score(X_train,y_train))\n",
        "print('Score of test',gb.score(X_test,y_test))\n",
        "\n",
        "#new scores\n",
        "print('Score of new train:',gb2.score(new_X_train,y_train))\n",
        "print('Score of new test',gb2.score(new_X_test,y_test))"
      ],
      "execution_count": null,
      "outputs": [
        {
          "output_type": "stream",
          "text": [
            "Score of train: 0.8897058823529411\n",
            "Score of test 0.8705882352941177\n",
            "Score of new train: 0.9014705882352941\n",
            "Score of new test 0.8705882352941177\n"
          ],
          "name": "stdout"
        }
      ]
    },
    {
      "cell_type": "markdown",
      "metadata": {
        "id": "hiIGi4dT3oKB"
      },
      "source": [
        "Even after dropping 4 columns, the algotithm is still performing well, Score improved for train but didnt for test. You can try out other algorithms"
      ]
    },
    {
      "cell_type": "markdown",
      "metadata": {
        "id": "pvMGPgFc3oKB"
      },
      "source": [
        "**Using Ensemble of models**\n",
        "\n",
        "By ensemble, we mean not using just one algorithm, but combining multiple algorithms"
      ]
    },
    {
      "cell_type": "code",
      "metadata": {
        "scrolled": true,
        "id": "jlS7wISy3oKB",
        "outputId": "3ec28413-f4da-4122-88d8-b52cbd008a9f"
      },
      "source": [
        "#Ensemble of gb and lr\n",
        "\n",
        "#we'll use accuracy score metric here\n",
        "from sklearn.metrics import accuracy_score\n",
        "\n",
        "#we want to predict the probablility for 1\n",
        "pre1 = gb.predict_proba(X_test)[:,1]\n",
        "pre2 = lr.predict_proba(X_test)[:,1]\n",
        "\n",
        "#now the ensemble, the multiplier must sum up to 1, you should vary the ratio and see which one gives the best result\n",
        "ens = pre1*0.7 + pre2*0.3\n",
        "\n",
        "#Then we split into the classes 1 and 0 at a threhold. Threshold here is 0.5, but you can vary it for the best result\n",
        "ens[ens>=0.5] = 1\n",
        "ens[ens<0.5] = 0\n",
        "\n",
        "print('Accuracy of ensemble is ',accuracy_score(ens,y_test))"
      ],
      "execution_count": null,
      "outputs": [
        {
          "output_type": "stream",
          "text": [
            "Accuracy of ensemble is  0.8823529411764706\n"
          ],
          "name": "stdout"
        }
      ]
    },
    {
      "cell_type": "markdown",
      "metadata": {
        "id": "CPtkvfa63oKB"
      },
      "source": [
        "This score is better than the one for gb having 0.8705, and for lr having 0.8176. Two heads are better than one"
      ]
    },
    {
      "cell_type": "code",
      "metadata": {
        "scrolled": false,
        "id": "Y7MSzXAe3oKC",
        "outputId": "8bf5b5b3-6943-4e2c-ec08-94ff35d1e9e2"
      },
      "source": [
        "from catboost import CatBoostClassifier\n",
        "cat = CatBoostClassifier(learning_rate = 0.1,iterations = 500)\n",
        "\n",
        "#This will be used for early stopping, training stops when there is no improvement on the eval_set\n",
        "eval_set = [(X_test,y_test)]\n",
        "\n",
        "#Training stops when there is no improvement after 100 rounds out of the 1500.Training information is displayed below with the training error\n",
        "cat.fit(X_train,y_train,early_stopping_rounds=100,eval_set=eval_set)\n",
        "\n",
        "y_cat=cat.predict(X_test)\n",
        "\n",
        "print(accuracy_score(y_test,y_cat))"
      ],
      "execution_count": null,
      "outputs": [
        {
          "output_type": "stream",
          "text": [
            "0:\tlearn: 0.6384750\ttest: 0.6266363\tbest: 0.6266363 (0)\ttotal: 186ms\tremaining: 1m 32s\n",
            "1:\tlearn: 0.6039953\ttest: 0.5856845\tbest: 0.5856845 (1)\ttotal: 217ms\tremaining: 53.9s\n",
            "2:\tlearn: 0.5768353\ttest: 0.5541221\tbest: 0.5541221 (2)\ttotal: 229ms\tremaining: 38s\n",
            "3:\tlearn: 0.5596575\ttest: 0.5330382\tbest: 0.5330382 (3)\ttotal: 241ms\tremaining: 29.8s\n",
            "4:\tlearn: 0.5358894\ttest: 0.5074158\tbest: 0.5074158 (4)\ttotal: 260ms\tremaining: 25.8s\n",
            "5:\tlearn: 0.5110339\ttest: 0.4763834\tbest: 0.4763834 (5)\ttotal: 280ms\tremaining: 23s\n",
            "6:\tlearn: 0.4946919\ttest: 0.4547678\tbest: 0.4547678 (6)\ttotal: 299ms\tremaining: 21s\n",
            "7:\tlearn: 0.4815990\ttest: 0.4381959\tbest: 0.4381959 (7)\ttotal: 319ms\tremaining: 19.6s\n",
            "8:\tlearn: 0.4705655\ttest: 0.4224712\tbest: 0.4224712 (8)\ttotal: 338ms\tremaining: 18.5s\n",
            "9:\tlearn: 0.4665273\ttest: 0.4177435\tbest: 0.4177435 (9)\ttotal: 355ms\tremaining: 17.4s\n",
            "10:\tlearn: 0.4558528\ttest: 0.4022838\tbest: 0.4022838 (10)\ttotal: 373ms\tremaining: 16.6s\n",
            "11:\tlearn: 0.4497488\ttest: 0.3948758\tbest: 0.3948758 (11)\ttotal: 400ms\tremaining: 16.3s\n",
            "12:\tlearn: 0.4471438\ttest: 0.3897222\tbest: 0.3897222 (12)\ttotal: 417ms\tremaining: 15.6s\n",
            "13:\tlearn: 0.4402122\ttest: 0.3800224\tbest: 0.3800224 (13)\ttotal: 450ms\tremaining: 15.6s\n",
            "14:\tlearn: 0.4341419\ttest: 0.3715470\tbest: 0.3715470 (14)\ttotal: 476ms\tremaining: 15.4s\n",
            "15:\tlearn: 0.4278200\ttest: 0.3641893\tbest: 0.3641893 (15)\ttotal: 496ms\tremaining: 15s\n",
            "16:\tlearn: 0.4240405\ttest: 0.3621286\tbest: 0.3621286 (16)\ttotal: 515ms\tremaining: 14.6s\n",
            "17:\tlearn: 0.4205255\ttest: 0.3567152\tbest: 0.3567152 (17)\ttotal: 534ms\tremaining: 14.3s\n",
            "18:\tlearn: 0.4175265\ttest: 0.3544930\tbest: 0.3544930 (18)\ttotal: 553ms\tremaining: 14s\n",
            "19:\tlearn: 0.4152297\ttest: 0.3524595\tbest: 0.3524595 (19)\ttotal: 574ms\tremaining: 13.8s\n",
            "20:\tlearn: 0.4148776\ttest: 0.3513441\tbest: 0.3513441 (20)\ttotal: 587ms\tremaining: 13.4s\n",
            "21:\tlearn: 0.4137104\ttest: 0.3504370\tbest: 0.3504370 (21)\ttotal: 609ms\tremaining: 13.2s\n",
            "22:\tlearn: 0.4130337\ttest: 0.3497752\tbest: 0.3497752 (22)\ttotal: 620ms\tremaining: 12.9s\n",
            "23:\tlearn: 0.4105463\ttest: 0.3488977\tbest: 0.3488977 (23)\ttotal: 640ms\tremaining: 12.7s\n",
            "24:\tlearn: 0.4090037\ttest: 0.3478350\tbest: 0.3478350 (24)\ttotal: 659ms\tremaining: 12.5s\n",
            "25:\tlearn: 0.4080932\ttest: 0.3460963\tbest: 0.3460963 (25)\ttotal: 674ms\tremaining: 12.3s\n",
            "26:\tlearn: 0.4035252\ttest: 0.3435908\tbest: 0.3435908 (26)\ttotal: 701ms\tremaining: 12.3s\n",
            "27:\tlearn: 0.4004712\ttest: 0.3415053\tbest: 0.3415053 (27)\ttotal: 723ms\tremaining: 12.2s\n",
            "28:\tlearn: 0.3989801\ttest: 0.3426035\tbest: 0.3415053 (27)\ttotal: 740ms\tremaining: 12s\n",
            "29:\tlearn: 0.3965286\ttest: 0.3436587\tbest: 0.3415053 (27)\ttotal: 759ms\tremaining: 11.9s\n",
            "30:\tlearn: 0.3950107\ttest: 0.3428594\tbest: 0.3415053 (27)\ttotal: 784ms\tremaining: 11.9s\n",
            "31:\tlearn: 0.3948596\ttest: 0.3427080\tbest: 0.3415053 (27)\ttotal: 798ms\tremaining: 11.7s\n",
            "32:\tlearn: 0.3922984\ttest: 0.3414877\tbest: 0.3414877 (32)\ttotal: 818ms\tremaining: 11.6s\n",
            "33:\tlearn: 0.3906894\ttest: 0.3402317\tbest: 0.3402317 (33)\ttotal: 838ms\tremaining: 11.5s\n",
            "34:\tlearn: 0.3905420\ttest: 0.3398065\tbest: 0.3398065 (34)\ttotal: 848ms\tremaining: 11.3s\n",
            "35:\tlearn: 0.3887540\ttest: 0.3376635\tbest: 0.3376635 (35)\ttotal: 868ms\tremaining: 11.2s\n",
            "36:\tlearn: 0.3877873\ttest: 0.3370346\tbest: 0.3370346 (36)\ttotal: 887ms\tremaining: 11.1s\n",
            "37:\tlearn: 0.3872192\ttest: 0.3372863\tbest: 0.3370346 (36)\ttotal: 902ms\tremaining: 11s\n",
            "38:\tlearn: 0.3857777\ttest: 0.3361567\tbest: 0.3361567 (38)\ttotal: 924ms\tremaining: 10.9s\n",
            "39:\tlearn: 0.3848651\ttest: 0.3357134\tbest: 0.3357134 (39)\ttotal: 941ms\tremaining: 10.8s\n",
            "40:\tlearn: 0.3839223\ttest: 0.3346358\tbest: 0.3346358 (40)\ttotal: 960ms\tremaining: 10.7s\n",
            "41:\tlearn: 0.3827728\ttest: 0.3334797\tbest: 0.3334797 (41)\ttotal: 986ms\tremaining: 10.7s\n",
            "42:\tlearn: 0.3801469\ttest: 0.3333642\tbest: 0.3333642 (42)\ttotal: 1.01s\tremaining: 10.7s\n",
            "43:\tlearn: 0.3795354\ttest: 0.3323215\tbest: 0.3323215 (43)\ttotal: 1.02s\tremaining: 10.6s\n",
            "44:\tlearn: 0.3782787\ttest: 0.3318224\tbest: 0.3318224 (44)\ttotal: 1.04s\tremaining: 10.6s\n",
            "45:\tlearn: 0.3776265\ttest: 0.3318696\tbest: 0.3318224 (44)\ttotal: 1.06s\tremaining: 10.5s\n",
            "46:\tlearn: 0.3764940\ttest: 0.3318620\tbest: 0.3318224 (44)\ttotal: 1.08s\tremaining: 10.5s\n",
            "47:\tlearn: 0.3746615\ttest: 0.3302747\tbest: 0.3302747 (47)\ttotal: 1.1s\tremaining: 10.4s\n",
            "48:\tlearn: 0.3728745\ttest: 0.3299030\tbest: 0.3299030 (48)\ttotal: 1.12s\tremaining: 10.3s\n",
            "49:\tlearn: 0.3721905\ttest: 0.3299142\tbest: 0.3299030 (48)\ttotal: 1.15s\tremaining: 10.3s\n",
            "50:\tlearn: 0.3695323\ttest: 0.3281504\tbest: 0.3281504 (50)\ttotal: 1.17s\tremaining: 10.3s\n",
            "51:\tlearn: 0.3687260\ttest: 0.3286815\tbest: 0.3281504 (50)\ttotal: 1.19s\tremaining: 10.3s\n",
            "52:\tlearn: 0.3679813\ttest: 0.3283754\tbest: 0.3281504 (50)\ttotal: 1.21s\tremaining: 10.2s\n",
            "53:\tlearn: 0.3672416\ttest: 0.3276694\tbest: 0.3276694 (53)\ttotal: 1.23s\tremaining: 10.2s\n",
            "54:\tlearn: 0.3669411\ttest: 0.3278874\tbest: 0.3276694 (53)\ttotal: 1.24s\tremaining: 10s\n",
            "55:\tlearn: 0.3658504\ttest: 0.3268589\tbest: 0.3268589 (55)\ttotal: 1.26s\tremaining: 9.96s\n",
            "56:\tlearn: 0.3646088\ttest: 0.3273044\tbest: 0.3268589 (55)\ttotal: 1.27s\tremaining: 9.91s\n",
            "57:\tlearn: 0.3632133\ttest: 0.3256121\tbest: 0.3256121 (57)\ttotal: 1.29s\tremaining: 9.85s\n",
            "58:\tlearn: 0.3630513\ttest: 0.3257560\tbest: 0.3256121 (57)\ttotal: 1.31s\tremaining: 9.81s\n",
            "59:\tlearn: 0.3621477\ttest: 0.3250130\tbest: 0.3250130 (59)\ttotal: 1.34s\tremaining: 9.83s\n",
            "60:\tlearn: 0.3613119\ttest: 0.3253895\tbest: 0.3250130 (59)\ttotal: 1.36s\tremaining: 9.8s\n",
            "61:\tlearn: 0.3605577\ttest: 0.3256068\tbest: 0.3250130 (59)\ttotal: 1.38s\tremaining: 9.76s\n",
            "62:\tlearn: 0.3603907\ttest: 0.3254288\tbest: 0.3250130 (59)\ttotal: 1.4s\tremaining: 9.71s\n",
            "63:\tlearn: 0.3586268\ttest: 0.3257939\tbest: 0.3250130 (59)\ttotal: 1.42s\tremaining: 9.67s\n",
            "64:\tlearn: 0.3577976\ttest: 0.3259703\tbest: 0.3250130 (59)\ttotal: 1.44s\tremaining: 9.63s\n",
            "65:\tlearn: 0.3568785\ttest: 0.3257695\tbest: 0.3250130 (59)\ttotal: 1.46s\tremaining: 9.6s\n",
            "66:\tlearn: 0.3562622\ttest: 0.3259930\tbest: 0.3250130 (59)\ttotal: 1.49s\tremaining: 9.63s\n",
            "67:\tlearn: 0.3561270\ttest: 0.3258655\tbest: 0.3250130 (59)\ttotal: 1.51s\tremaining: 9.61s\n",
            "68:\tlearn: 0.3556234\ttest: 0.3255729\tbest: 0.3250130 (59)\ttotal: 1.53s\tremaining: 9.56s\n",
            "69:\tlearn: 0.3528901\ttest: 0.3250223\tbest: 0.3250130 (59)\ttotal: 1.55s\tremaining: 9.52s\n",
            "70:\tlearn: 0.3526421\ttest: 0.3249954\tbest: 0.3249954 (70)\ttotal: 1.57s\tremaining: 9.48s\n",
            "71:\tlearn: 0.3521917\ttest: 0.3247476\tbest: 0.3247476 (71)\ttotal: 1.59s\tremaining: 9.45s\n",
            "72:\tlearn: 0.3518250\ttest: 0.3249202\tbest: 0.3247476 (71)\ttotal: 1.61s\tremaining: 9.4s\n",
            "73:\tlearn: 0.3517088\ttest: 0.3250183\tbest: 0.3247476 (71)\ttotal: 1.62s\tremaining: 9.34s\n",
            "74:\tlearn: 0.3510315\ttest: 0.3253468\tbest: 0.3247476 (71)\ttotal: 1.64s\tremaining: 9.3s\n",
            "75:\tlearn: 0.3479839\ttest: 0.3258539\tbest: 0.3247476 (71)\ttotal: 1.66s\tremaining: 9.26s\n",
            "76:\tlearn: 0.3475509\ttest: 0.3258163\tbest: 0.3247476 (71)\ttotal: 1.68s\tremaining: 9.22s\n",
            "77:\tlearn: 0.3465711\ttest: 0.3268108\tbest: 0.3247476 (71)\ttotal: 1.7s\tremaining: 9.18s\n",
            "78:\tlearn: 0.3448592\ttest: 0.3270057\tbest: 0.3247476 (71)\ttotal: 1.72s\tremaining: 9.18s\n",
            "79:\tlearn: 0.3442178\ttest: 0.3268847\tbest: 0.3247476 (71)\ttotal: 1.75s\tremaining: 9.17s\n",
            "80:\tlearn: 0.3437287\ttest: 0.3269622\tbest: 0.3247476 (71)\ttotal: 1.77s\tremaining: 9.14s\n",
            "81:\tlearn: 0.3434190\ttest: 0.3267836\tbest: 0.3247476 (71)\ttotal: 1.79s\tremaining: 9.12s\n",
            "82:\tlearn: 0.3431708\ttest: 0.3266999\tbest: 0.3247476 (71)\ttotal: 1.81s\tremaining: 9.09s\n",
            "83:\tlearn: 0.3420916\ttest: 0.3257498\tbest: 0.3247476 (71)\ttotal: 1.83s\tremaining: 9.06s\n",
            "84:\tlearn: 0.3415994\ttest: 0.3253092\tbest: 0.3247476 (71)\ttotal: 1.85s\tremaining: 9.02s\n",
            "85:\tlearn: 0.3410301\ttest: 0.3251837\tbest: 0.3247476 (71)\ttotal: 1.87s\tremaining: 8.99s\n",
            "86:\tlearn: 0.3408276\ttest: 0.3249562\tbest: 0.3247476 (71)\ttotal: 1.89s\tremaining: 8.96s\n",
            "87:\tlearn: 0.3392430\ttest: 0.3250369\tbest: 0.3247476 (71)\ttotal: 1.91s\tremaining: 8.96s\n",
            "88:\tlearn: 0.3384960\ttest: 0.3244603\tbest: 0.3244603 (88)\ttotal: 1.94s\tremaining: 8.95s\n",
            "89:\tlearn: 0.3378345\ttest: 0.3242244\tbest: 0.3242244 (89)\ttotal: 1.96s\tremaining: 8.92s\n",
            "90:\tlearn: 0.3364382\ttest: 0.3232673\tbest: 0.3232673 (90)\ttotal: 1.98s\tremaining: 8.89s\n",
            "91:\tlearn: 0.3348802\ttest: 0.3227557\tbest: 0.3227557 (91)\ttotal: 2s\tremaining: 8.86s\n",
            "92:\tlearn: 0.3329443\ttest: 0.3237907\tbest: 0.3227557 (91)\ttotal: 2.02s\tremaining: 8.82s\n",
            "93:\tlearn: 0.3323076\ttest: 0.3238793\tbest: 0.3227557 (91)\ttotal: 2.03s\tremaining: 8.79s\n",
            "94:\tlearn: 0.3304718\ttest: 0.3242492\tbest: 0.3227557 (91)\ttotal: 2.05s\tremaining: 8.76s\n",
            "95:\tlearn: 0.3303091\ttest: 0.3240900\tbest: 0.3227557 (91)\ttotal: 2.07s\tremaining: 8.73s\n"
          ],
          "name": "stdout"
        },
        {
          "output_type": "stream",
          "text": [
            "96:\tlearn: 0.3286836\ttest: 0.3248556\tbest: 0.3227557 (91)\ttotal: 2.1s\tremaining: 8.72s\n",
            "97:\tlearn: 0.3283016\ttest: 0.3250838\tbest: 0.3227557 (91)\ttotal: 2.12s\tremaining: 8.71s\n",
            "98:\tlearn: 0.3282015\ttest: 0.3249783\tbest: 0.3227557 (91)\ttotal: 2.14s\tremaining: 8.68s\n",
            "99:\tlearn: 0.3280209\ttest: 0.3247863\tbest: 0.3227557 (91)\ttotal: 2.16s\tremaining: 8.65s\n",
            "100:\tlearn: 0.3270357\ttest: 0.3252902\tbest: 0.3227557 (91)\ttotal: 2.2s\tremaining: 8.68s\n",
            "101:\tlearn: 0.3263128\ttest: 0.3257041\tbest: 0.3227557 (91)\ttotal: 2.21s\tremaining: 8.64s\n",
            "102:\tlearn: 0.3259304\ttest: 0.3242462\tbest: 0.3227557 (91)\ttotal: 2.23s\tremaining: 8.61s\n",
            "103:\tlearn: 0.3257674\ttest: 0.3244239\tbest: 0.3227557 (91)\ttotal: 2.25s\tremaining: 8.58s\n",
            "104:\tlearn: 0.3256436\ttest: 0.3244754\tbest: 0.3227557 (91)\ttotal: 2.27s\tremaining: 8.54s\n",
            "105:\tlearn: 0.3245012\ttest: 0.3234635\tbest: 0.3227557 (91)\ttotal: 2.29s\tremaining: 8.53s\n",
            "106:\tlearn: 0.3232089\ttest: 0.3229237\tbest: 0.3227557 (91)\ttotal: 2.32s\tremaining: 8.52s\n",
            "107:\tlearn: 0.3219983\ttest: 0.3251212\tbest: 0.3227557 (91)\ttotal: 2.34s\tremaining: 8.49s\n",
            "108:\tlearn: 0.3216495\ttest: 0.3250350\tbest: 0.3227557 (91)\ttotal: 2.36s\tremaining: 8.46s\n",
            "109:\tlearn: 0.3212175\ttest: 0.3252865\tbest: 0.3227557 (91)\ttotal: 2.38s\tremaining: 8.43s\n",
            "110:\tlearn: 0.3207492\ttest: 0.3254110\tbest: 0.3227557 (91)\ttotal: 2.4s\tremaining: 8.41s\n",
            "111:\tlearn: 0.3201966\ttest: 0.3251351\tbest: 0.3227557 (91)\ttotal: 2.42s\tremaining: 8.38s\n",
            "112:\tlearn: 0.3189686\ttest: 0.3253560\tbest: 0.3227557 (91)\ttotal: 2.44s\tremaining: 8.35s\n",
            "113:\tlearn: 0.3189327\ttest: 0.3252554\tbest: 0.3227557 (91)\ttotal: 2.46s\tremaining: 8.33s\n",
            "114:\tlearn: 0.3187486\ttest: 0.3245721\tbest: 0.3227557 (91)\ttotal: 2.48s\tremaining: 8.32s\n",
            "115:\tlearn: 0.3167831\ttest: 0.3260924\tbest: 0.3227557 (91)\ttotal: 2.51s\tremaining: 8.3s\n",
            "116:\tlearn: 0.3164992\ttest: 0.3255335\tbest: 0.3227557 (91)\ttotal: 2.53s\tremaining: 8.28s\n",
            "117:\tlearn: 0.3164120\ttest: 0.3254184\tbest: 0.3227557 (91)\ttotal: 2.55s\tremaining: 8.25s\n",
            "118:\tlearn: 0.3159299\ttest: 0.3258864\tbest: 0.3227557 (91)\ttotal: 2.57s\tremaining: 8.22s\n",
            "119:\tlearn: 0.3138601\ttest: 0.3267230\tbest: 0.3227557 (91)\ttotal: 2.59s\tremaining: 8.19s\n",
            "120:\tlearn: 0.3136479\ttest: 0.3270851\tbest: 0.3227557 (91)\ttotal: 2.61s\tremaining: 8.16s\n",
            "121:\tlearn: 0.3133386\ttest: 0.3271639\tbest: 0.3227557 (91)\ttotal: 2.62s\tremaining: 8.13s\n",
            "122:\tlearn: 0.3128375\ttest: 0.3269584\tbest: 0.3227557 (91)\ttotal: 2.64s\tremaining: 8.1s\n",
            "123:\tlearn: 0.3127484\ttest: 0.3268545\tbest: 0.3227557 (91)\ttotal: 2.67s\tremaining: 8.09s\n",
            "124:\tlearn: 0.3126413\ttest: 0.3268542\tbest: 0.3227557 (91)\ttotal: 2.69s\tremaining: 8.07s\n",
            "125:\tlearn: 0.3124803\ttest: 0.3270089\tbest: 0.3227557 (91)\ttotal: 2.71s\tremaining: 8.05s\n",
            "126:\tlearn: 0.3113512\ttest: 0.3265880\tbest: 0.3227557 (91)\ttotal: 2.73s\tremaining: 8.02s\n",
            "127:\tlearn: 0.3107021\ttest: 0.3264530\tbest: 0.3227557 (91)\ttotal: 2.75s\tremaining: 7.99s\n",
            "128:\tlearn: 0.3100471\ttest: 0.3257113\tbest: 0.3227557 (91)\ttotal: 2.77s\tremaining: 7.96s\n",
            "129:\tlearn: 0.3100106\ttest: 0.3256374\tbest: 0.3227557 (91)\ttotal: 2.79s\tremaining: 7.93s\n",
            "130:\tlearn: 0.3086828\ttest: 0.3256170\tbest: 0.3227557 (91)\ttotal: 2.8s\tremaining: 7.9s\n",
            "131:\tlearn: 0.3070700\ttest: 0.3263397\tbest: 0.3227557 (91)\ttotal: 2.83s\tremaining: 7.88s\n",
            "132:\tlearn: 0.3067836\ttest: 0.3265688\tbest: 0.3227557 (91)\ttotal: 2.84s\tremaining: 7.85s\n",
            "133:\tlearn: 0.3060738\ttest: 0.3268981\tbest: 0.3227557 (91)\ttotal: 2.87s\tremaining: 7.83s\n",
            "134:\tlearn: 0.3058985\ttest: 0.3270690\tbest: 0.3227557 (91)\ttotal: 2.89s\tremaining: 7.81s\n",
            "135:\tlearn: 0.3058522\ttest: 0.3271608\tbest: 0.3227557 (91)\ttotal: 2.91s\tremaining: 7.79s\n",
            "136:\tlearn: 0.3056836\ttest: 0.3274882\tbest: 0.3227557 (91)\ttotal: 2.93s\tremaining: 7.76s\n",
            "137:\tlearn: 0.3047736\ttest: 0.3278647\tbest: 0.3227557 (91)\ttotal: 2.95s\tremaining: 7.74s\n",
            "138:\tlearn: 0.3042084\ttest: 0.3287439\tbest: 0.3227557 (91)\ttotal: 2.97s\tremaining: 7.71s\n",
            "139:\tlearn: 0.3033265\ttest: 0.3284566\tbest: 0.3227557 (91)\ttotal: 2.99s\tremaining: 7.68s\n",
            "140:\tlearn: 0.3030153\ttest: 0.3281505\tbest: 0.3227557 (91)\ttotal: 3.01s\tremaining: 7.65s\n",
            "141:\tlearn: 0.3024951\ttest: 0.3285034\tbest: 0.3227557 (91)\ttotal: 3.03s\tremaining: 7.64s\n",
            "142:\tlearn: 0.3021415\ttest: 0.3284492\tbest: 0.3227557 (91)\ttotal: 3.06s\tremaining: 7.63s\n",
            "143:\tlearn: 0.3020222\ttest: 0.3287345\tbest: 0.3227557 (91)\ttotal: 3.08s\tremaining: 7.61s\n",
            "144:\tlearn: 0.3014099\ttest: 0.3290888\tbest: 0.3227557 (91)\ttotal: 3.1s\tremaining: 7.58s\n",
            "145:\tlearn: 0.3005363\ttest: 0.3295948\tbest: 0.3227557 (91)\ttotal: 3.12s\tremaining: 7.56s\n",
            "146:\tlearn: 0.2992058\ttest: 0.3281482\tbest: 0.3227557 (91)\ttotal: 3.14s\tremaining: 7.53s\n",
            "147:\tlearn: 0.2991213\ttest: 0.3282884\tbest: 0.3227557 (91)\ttotal: 3.15s\tremaining: 7.5s\n",
            "148:\tlearn: 0.2988883\ttest: 0.3283614\tbest: 0.3227557 (91)\ttotal: 3.17s\tremaining: 7.47s\n",
            "149:\tlearn: 0.2982246\ttest: 0.3282964\tbest: 0.3227557 (91)\ttotal: 3.19s\tremaining: 7.45s\n",
            "150:\tlearn: 0.2981434\ttest: 0.3282745\tbest: 0.3227557 (91)\ttotal: 3.21s\tremaining: 7.42s\n",
            "151:\tlearn: 0.2978963\ttest: 0.3285658\tbest: 0.3227557 (91)\ttotal: 3.23s\tremaining: 7.41s\n",
            "152:\tlearn: 0.2969769\ttest: 0.3265971\tbest: 0.3227557 (91)\ttotal: 3.26s\tremaining: 7.39s\n",
            "153:\tlearn: 0.2965978\ttest: 0.3262175\tbest: 0.3227557 (91)\ttotal: 3.28s\tremaining: 7.36s\n",
            "154:\tlearn: 0.2965205\ttest: 0.3262346\tbest: 0.3227557 (91)\ttotal: 3.29s\tremaining: 7.34s\n",
            "155:\tlearn: 0.2955067\ttest: 0.3258396\tbest: 0.3227557 (91)\ttotal: 3.32s\tremaining: 7.31s\n",
            "156:\tlearn: 0.2954601\ttest: 0.3258776\tbest: 0.3227557 (91)\ttotal: 3.33s\tremaining: 7.29s\n",
            "157:\tlearn: 0.2943661\ttest: 0.3259065\tbest: 0.3227557 (91)\ttotal: 3.35s\tremaining: 7.26s\n",
            "158:\tlearn: 0.2941299\ttest: 0.3257222\tbest: 0.3227557 (91)\ttotal: 3.37s\tremaining: 7.23s\n",
            "159:\tlearn: 0.2935079\ttest: 0.3260954\tbest: 0.3227557 (91)\ttotal: 3.39s\tremaining: 7.21s\n",
            "160:\tlearn: 0.2934763\ttest: 0.3259548\tbest: 0.3227557 (91)\ttotal: 3.42s\tremaining: 7.2s\n",
            "161:\tlearn: 0.2925723\ttest: 0.3257591\tbest: 0.3227557 (91)\ttotal: 3.44s\tremaining: 7.18s\n",
            "162:\tlearn: 0.2913451\ttest: 0.3264717\tbest: 0.3227557 (91)\ttotal: 3.46s\tremaining: 7.16s\n",
            "163:\tlearn: 0.2880634\ttest: 0.3251227\tbest: 0.3227557 (91)\ttotal: 3.48s\tremaining: 7.13s\n",
            "164:\tlearn: 0.2880314\ttest: 0.3252040\tbest: 0.3227557 (91)\ttotal: 3.5s\tremaining: 7.11s\n",
            "165:\tlearn: 0.2855592\ttest: 0.3258593\tbest: 0.3227557 (91)\ttotal: 3.52s\tremaining: 7.08s\n",
            "166:\tlearn: 0.2848961\ttest: 0.3262428\tbest: 0.3227557 (91)\ttotal: 3.54s\tremaining: 7.05s\n",
            "167:\tlearn: 0.2844275\ttest: 0.3254275\tbest: 0.3227557 (91)\ttotal: 3.56s\tremaining: 7.03s\n",
            "168:\tlearn: 0.2839072\ttest: 0.3255831\tbest: 0.3227557 (91)\ttotal: 3.58s\tremaining: 7.01s\n",
            "169:\tlearn: 0.2832462\ttest: 0.3260172\tbest: 0.3227557 (91)\ttotal: 3.6s\tremaining: 6.99s\n",
            "170:\tlearn: 0.2821492\ttest: 0.3243631\tbest: 0.3227557 (91)\ttotal: 3.62s\tremaining: 6.97s\n",
            "171:\tlearn: 0.2815913\ttest: 0.3253118\tbest: 0.3227557 (91)\ttotal: 3.64s\tremaining: 6.95s\n",
            "172:\tlearn: 0.2815772\ttest: 0.3252472\tbest: 0.3227557 (91)\ttotal: 3.66s\tremaining: 6.92s\n",
            "173:\tlearn: 0.2815259\ttest: 0.3255146\tbest: 0.3227557 (91)\ttotal: 3.68s\tremaining: 6.9s\n",
            "174:\tlearn: 0.2812793\ttest: 0.3248911\tbest: 0.3227557 (91)\ttotal: 3.7s\tremaining: 6.88s\n",
            "175:\tlearn: 0.2810976\ttest: 0.3246943\tbest: 0.3227557 (91)\ttotal: 3.73s\tremaining: 6.86s\n",
            "176:\tlearn: 0.2806800\ttest: 0.3254559\tbest: 0.3227557 (91)\ttotal: 3.74s\tremaining: 6.83s\n",
            "177:\tlearn: 0.2806544\ttest: 0.3254307\tbest: 0.3227557 (91)\ttotal: 3.76s\tremaining: 6.8s\n",
            "178:\tlearn: 0.2806270\ttest: 0.3254653\tbest: 0.3227557 (91)\ttotal: 3.79s\tremaining: 6.79s\n",
            "179:\tlearn: 0.2796645\ttest: 0.3247976\tbest: 0.3227557 (91)\ttotal: 3.81s\tremaining: 6.78s\n",
            "180:\tlearn: 0.2789403\ttest: 0.3248265\tbest: 0.3227557 (91)\ttotal: 3.83s\tremaining: 6.76s\n",
            "181:\tlearn: 0.2782220\ttest: 0.3239282\tbest: 0.3227557 (91)\ttotal: 3.85s\tremaining: 6.73s\n",
            "182:\tlearn: 0.2781703\ttest: 0.3240939\tbest: 0.3227557 (91)\ttotal: 3.87s\tremaining: 6.71s\n",
            "183:\tlearn: 0.2781357\ttest: 0.3243365\tbest: 0.3227557 (91)\ttotal: 3.89s\tremaining: 6.68s\n",
            "184:\tlearn: 0.2778488\ttest: 0.3237889\tbest: 0.3227557 (91)\ttotal: 3.91s\tremaining: 6.66s\n",
            "185:\tlearn: 0.2776778\ttest: 0.3238041\tbest: 0.3227557 (91)\ttotal: 3.93s\tremaining: 6.63s\n",
            "186:\tlearn: 0.2773982\ttest: 0.3236454\tbest: 0.3227557 (91)\ttotal: 3.95s\tremaining: 6.61s\n",
            "187:\tlearn: 0.2767558\ttest: 0.3232786\tbest: 0.3227557 (91)\ttotal: 3.97s\tremaining: 6.59s\n",
            "188:\tlearn: 0.2765406\ttest: 0.3235338\tbest: 0.3227557 (91)\ttotal: 3.99s\tremaining: 6.57s\n",
            "189:\tlearn: 0.2763227\ttest: 0.3238201\tbest: 0.3227557 (91)\ttotal: 4.02s\tremaining: 6.55s\n",
            "190:\tlearn: 0.2759005\ttest: 0.3237884\tbest: 0.3227557 (91)\ttotal: 4.04s\tremaining: 6.53s\n",
            "191:\tlearn: 0.2752096\ttest: 0.3239609\tbest: 0.3227557 (91)\ttotal: 4.05s\tremaining: 6.5s\n",
            "Stopped by overfitting detector  (100 iterations wait)\n",
            "\n",
            "bestTest = 0.3227557123\n",
            "bestIteration = 91\n",
            "\n",
            "Shrink model to first 92 iterations.\n"
          ],
          "name": "stdout"
        },
        {
          "output_type": "stream",
          "text": [
            "0.888235294117647\n"
          ],
          "name": "stdout"
        }
      ]
    },
    {
      "cell_type": "markdown",
      "metadata": {
        "id": "GDwM_yoZ3oKC"
      },
      "source": [
        "This performed better than the ensemble, creating an ensemble of this algorithm with others can give better score, try it"
      ]
    },
    {
      "cell_type": "markdown",
      "metadata": {
        "id": "FXeauCVe3oKC"
      },
      "source": [
        "**Cross Validation and Hyper Parameter tuning**\n",
        "\n",
        "__Cross Validation__\n",
        "\n",
        "Many a times, the data is imbalanced, i.e there may be a high number of a class instances but less number of other class instances. Thus we should train and test our algorithm on each and every instance of the dataset. Then we can take an average of all the noted accuracies over the dataset. \n",
        "\n",
        "1)The K-Fold Cross Validation works by shuffling the dataset randomly\n",
        "\n",
        "2)It then splits the dataset into K groups i.e (k = 10)\n",
        "\n",
        "3)And for each unique group it splits the dataset into: It takes the group as a hold-out or test dataset and takes the remaining groups as training dataset. It then fits the model on the training set and evaluates it on the test set.\n",
        "\n",
        "4)It Retains the evaluation score and discards the model\n",
        "\n",
        "5)It then averages the score of the model using the sample of model evaluation scores\n",
        "\n",
        "This is called K-Fold Cross Validation.\n",
        "\n",
        "4)An algorithm may underfit over a dataset for some training data and sometimes also overfit the data for other training set. Thus with cross-validation, we can achieve a generalised model.\n"
      ]
    },
    {
      "cell_type": "code",
      "metadata": {
        "scrolled": true,
        "id": "qzpMclzZ3oKC",
        "outputId": "a3d11ea8-876d-4447-b359-b60d63069b72"
      },
      "source": [
        "from sklearn.model_selection import KFold #for K-fold cross validation\n",
        "from sklearn.model_selection import cross_val_score #score evaluation\n",
        "from sklearn.model_selection import cross_val_predict #prediction\n",
        "kfold = KFold(n_splits=10, random_state=7) # k=10, split the data into 10 equal parts\n",
        "\n",
        "#empty list of average of cross validation(cv) scores\n",
        "cvmean =[]\n",
        "\n",
        "#empty list of accuracy \n",
        "accuracy=[]\n",
        "\n",
        "#empty list of standard deviation of score\n",
        "std=[]\n",
        "\n",
        "#algorithms to use for cv\n",
        "classifiers=['Random Forest','Logistic Regression','Support Vector Classifier','GradientBoostingClassifier']\n",
        "\n",
        "#their models\n",
        "models=[RandomForestClassifier(),LogisticRegression(),SVC(),GradientBoostingClassifier()]\n",
        "\n",
        "#iterating through all the models\n",
        "for model in models:\n",
        "    \n",
        "    #get cross validation score for each moodel after splitting by kfold\n",
        "    cv_result = cross_val_score(model,X,y,cv = kfold,scoring = \"accuracy\")\n",
        "    \n",
        "    #append results for mean,std,accuracy to the empty lists\n",
        "    cvmean.append(cv_result.mean())\n",
        "    std.append(cv_result.std())\n",
        "    accuracy.append(cv_result)\n",
        "    \n",
        " #turning the results into a dataframe   \n",
        "cv_dataframe=pd.DataFrame({'CV Mean':cvmean,'Std':std},index=classifiers)       \n",
        "cv_dataframe"
      ],
      "execution_count": null,
      "outputs": [
        {
          "output_type": "execute_result",
          "data": {
            "text/html": [
              "<div>\n",
              "<style scoped>\n",
              "    .dataframe tbody tr th:only-of-type {\n",
              "        vertical-align: middle;\n",
              "    }\n",
              "\n",
              "    .dataframe tbody tr th {\n",
              "        vertical-align: top;\n",
              "    }\n",
              "\n",
              "    .dataframe thead th {\n",
              "        text-align: right;\n",
              "    }\n",
              "</style>\n",
              "<table border=\"1\" class=\"dataframe\">\n",
              "  <thead>\n",
              "    <tr style=\"text-align: right;\">\n",
              "      <th></th>\n",
              "      <th>CV Mean</th>\n",
              "      <th>Std</th>\n",
              "    </tr>\n",
              "  </thead>\n",
              "  <tbody>\n",
              "    <tr>\n",
              "      <th>Random Forest</th>\n",
              "      <td>0.809412</td>\n",
              "      <td>0.039652</td>\n",
              "    </tr>\n",
              "    <tr>\n",
              "      <th>Logistic Regression</th>\n",
              "      <td>0.788235</td>\n",
              "      <td>0.054169</td>\n",
              "    </tr>\n",
              "    <tr>\n",
              "      <th>Support Vector Classifier</th>\n",
              "      <td>0.667059</td>\n",
              "      <td>0.059769</td>\n",
              "    </tr>\n",
              "    <tr>\n",
              "      <th>GradientBoostingClassifier</th>\n",
              "      <td>0.816471</td>\n",
              "      <td>0.036904</td>\n",
              "    </tr>\n",
              "  </tbody>\n",
              "</table>\n",
              "</div>"
            ],
            "text/plain": [
              "                             CV Mean       Std\n",
              "Random Forest               0.809412  0.039652\n",
              "Logistic Regression         0.788235  0.054169\n",
              "Support Vector Classifier   0.667059  0.059769\n",
              "GradientBoostingClassifier  0.816471  0.036904"
            ]
          },
          "metadata": {
            "tags": []
          },
          "execution_count": 70
        }
      ]
    },
    {
      "cell_type": "markdown",
      "metadata": {
        "id": "ai2RTkYu3oKD"
      },
      "source": [
        "We see GradientBoostingClassifier having score of 0.816 with cv as against 0.870 without cv. Score for Cross Validation is more reliable, and this cv score will be closer to the submitted score on kaggle"
      ]
    },
    {
      "cell_type": "markdown",
      "metadata": {
        "id": "-HKDM88j3oKD"
      },
      "source": [
        "\n",
        "__Hyper parameter optimization/ Tuning__ \n",
        "\n",
        "Hyper parameter optimization/ Tuning is the process of choosing a set of optimal hyperparameters for a learning algorithm. Though Tedious, Hyperparameter tuning remains a very crucial and important step for achieving the best model in any Machine Learning Task. Hyperparameter tuning can be done using the GridSearch method or RandomizedGridSearch method"
      ]
    },
    {
      "cell_type": "code",
      "metadata": {
        "id": "i8tE5DGX3oKD"
      },
      "source": [
        "from sklearn.model_selection import GridSearchCV\n",
        "from sklearn.model_selection import KFold, StratifiedKFold\n",
        "para={'learning_rate':[0.1],\n",
        "    'iterations':[90,100,120]\n",
        "     }\n",
        "#scoring={'roc_auc_score': make_scorer(roc_auc_score)}\n",
        "kfold = StratifiedKFold(n_splits=10, shuffle=True, random_state=7)\n",
        "grid=GridSearchCV(cat,param_grid=para,scoring='accuracy',cv=kfold,n_jobs=-1)"
      ],
      "execution_count": null,
      "outputs": []
    },
    {
      "cell_type": "code",
      "metadata": {
        "id": "PA_jcbQK3oKD",
        "outputId": "087e3245-8214-45fa-d2cd-cea533d93df6"
      },
      "source": [
        "grid.fit(X_train,y_train)"
      ],
      "execution_count": null,
      "outputs": [
        {
          "output_type": "stream",
          "text": [
            "0:\tlearn: 0.6384750\ttotal: 26.6ms\tremaining: 2.63s\n",
            "1:\tlearn: 0.6039953\ttotal: 50.2ms\tremaining: 2.46s\n",
            "2:\tlearn: 0.5768353\ttotal: 66.1ms\tremaining: 2.14s\n",
            "3:\tlearn: 0.5596575\ttotal: 77.9ms\tremaining: 1.87s\n",
            "4:\tlearn: 0.5358894\ttotal: 103ms\tremaining: 1.96s\n",
            "5:\tlearn: 0.5110339\ttotal: 125ms\tremaining: 1.96s\n",
            "6:\tlearn: 0.4946919\ttotal: 145ms\tremaining: 1.92s\n",
            "7:\tlearn: 0.4815990\ttotal: 166ms\tremaining: 1.91s\n",
            "8:\tlearn: 0.4705655\ttotal: 190ms\tremaining: 1.92s\n",
            "9:\tlearn: 0.4665273\ttotal: 208ms\tremaining: 1.87s\n",
            "10:\tlearn: 0.4558528\ttotal: 235ms\tremaining: 1.91s\n",
            "11:\tlearn: 0.4497488\ttotal: 276ms\tremaining: 2.03s\n",
            "12:\tlearn: 0.4471438\ttotal: 321ms\tremaining: 2.15s\n",
            "13:\tlearn: 0.4402122\ttotal: 352ms\tremaining: 2.16s\n",
            "14:\tlearn: 0.4341419\ttotal: 380ms\tremaining: 2.15s\n",
            "15:\tlearn: 0.4278200\ttotal: 418ms\tremaining: 2.19s\n",
            "16:\tlearn: 0.4240405\ttotal: 444ms\tremaining: 2.17s\n",
            "17:\tlearn: 0.4205255\ttotal: 464ms\tremaining: 2.11s\n",
            "18:\tlearn: 0.4175265\ttotal: 483ms\tremaining: 2.06s\n",
            "19:\tlearn: 0.4152297\ttotal: 520ms\tremaining: 2.08s\n",
            "20:\tlearn: 0.4148776\ttotal: 530ms\tremaining: 1.99s\n",
            "21:\tlearn: 0.4137104\ttotal: 550ms\tremaining: 1.95s\n",
            "22:\tlearn: 0.4130337\ttotal: 561ms\tremaining: 1.88s\n",
            "23:\tlearn: 0.4105463\ttotal: 587ms\tremaining: 1.86s\n",
            "24:\tlearn: 0.4090037\ttotal: 611ms\tremaining: 1.83s\n",
            "25:\tlearn: 0.4080932\ttotal: 625ms\tremaining: 1.78s\n",
            "26:\tlearn: 0.4035252\ttotal: 646ms\tremaining: 1.75s\n",
            "27:\tlearn: 0.4004712\ttotal: 665ms\tremaining: 1.71s\n",
            "28:\tlearn: 0.3989801\ttotal: 680ms\tremaining: 1.67s\n",
            "29:\tlearn: 0.3965286\ttotal: 699ms\tremaining: 1.63s\n",
            "30:\tlearn: 0.3950107\ttotal: 718ms\tremaining: 1.6s\n",
            "31:\tlearn: 0.3948596\ttotal: 729ms\tremaining: 1.55s\n",
            "32:\tlearn: 0.3922984\ttotal: 749ms\tremaining: 1.52s\n",
            "33:\tlearn: 0.3906894\ttotal: 767ms\tremaining: 1.49s\n",
            "34:\tlearn: 0.3905420\ttotal: 779ms\tremaining: 1.45s\n",
            "35:\tlearn: 0.3887540\ttotal: 803ms\tremaining: 1.43s\n",
            "36:\tlearn: 0.3877873\ttotal: 822ms\tremaining: 1.4s\n",
            "37:\tlearn: 0.3872192\ttotal: 841ms\tremaining: 1.37s\n",
            "38:\tlearn: 0.3857777\ttotal: 860ms\tremaining: 1.34s\n",
            "39:\tlearn: 0.3848651\ttotal: 876ms\tremaining: 1.31s\n",
            "40:\tlearn: 0.3839223\ttotal: 894ms\tremaining: 1.29s\n",
            "41:\tlearn: 0.3827728\ttotal: 913ms\tremaining: 1.26s\n",
            "42:\tlearn: 0.3801469\ttotal: 932ms\tremaining: 1.24s\n",
            "43:\tlearn: 0.3795354\ttotal: 947ms\tremaining: 1.21s\n",
            "44:\tlearn: 0.3782787\ttotal: 970ms\tremaining: 1.19s\n",
            "45:\tlearn: 0.3776265\ttotal: 995ms\tremaining: 1.17s\n",
            "46:\tlearn: 0.3764940\ttotal: 1.01s\tremaining: 1.14s\n",
            "47:\tlearn: 0.3746615\ttotal: 1.03s\tremaining: 1.12s\n",
            "48:\tlearn: 0.3728745\ttotal: 1.05s\tremaining: 1.1s\n",
            "49:\tlearn: 0.3721905\ttotal: 1.07s\tremaining: 1.07s\n",
            "50:\tlearn: 0.3695323\ttotal: 1.09s\tremaining: 1.05s\n",
            "51:\tlearn: 0.3687260\ttotal: 1.11s\tremaining: 1.03s\n",
            "52:\tlearn: 0.3679813\ttotal: 1.13s\tremaining: 1s\n",
            "53:\tlearn: 0.3672416\ttotal: 1.16s\tremaining: 986ms\n",
            "54:\tlearn: 0.3669411\ttotal: 1.17s\tremaining: 958ms\n",
            "55:\tlearn: 0.3658504\ttotal: 1.19s\tremaining: 934ms\n",
            "56:\tlearn: 0.3646088\ttotal: 1.21s\tremaining: 911ms\n",
            "57:\tlearn: 0.3632133\ttotal: 1.23s\tremaining: 887ms\n",
            "58:\tlearn: 0.3630513\ttotal: 1.24s\tremaining: 865ms\n",
            "59:\tlearn: 0.3621477\ttotal: 1.26s\tremaining: 842ms\n",
            "60:\tlearn: 0.3613119\ttotal: 1.28s\tremaining: 820ms\n",
            "61:\tlearn: 0.3605577\ttotal: 1.3s\tremaining: 797ms\n",
            "62:\tlearn: 0.3603907\ttotal: 1.32s\tremaining: 774ms\n",
            "63:\tlearn: 0.3586268\ttotal: 1.34s\tremaining: 756ms\n",
            "64:\tlearn: 0.3577976\ttotal: 1.38s\tremaining: 743ms\n",
            "65:\tlearn: 0.3568785\ttotal: 1.39s\tremaining: 717ms\n",
            "66:\tlearn: 0.3562622\ttotal: 1.41s\tremaining: 695ms\n",
            "67:\tlearn: 0.3561270\ttotal: 1.43s\tremaining: 673ms\n",
            "68:\tlearn: 0.3556234\ttotal: 1.44s\tremaining: 649ms\n",
            "69:\tlearn: 0.3528901\ttotal: 1.46s\tremaining: 627ms\n",
            "70:\tlearn: 0.3526421\ttotal: 1.48s\tremaining: 606ms\n",
            "71:\tlearn: 0.3521917\ttotal: 1.51s\tremaining: 587ms\n",
            "72:\tlearn: 0.3518250\ttotal: 1.53s\tremaining: 566ms\n",
            "73:\tlearn: 0.3517088\ttotal: 1.55s\tremaining: 544ms\n",
            "74:\tlearn: 0.3510315\ttotal: 1.57s\tremaining: 522ms\n",
            "75:\tlearn: 0.3479839\ttotal: 1.59s\tremaining: 501ms\n",
            "76:\tlearn: 0.3475509\ttotal: 1.6s\tremaining: 480ms\n",
            "77:\tlearn: 0.3465711\ttotal: 1.62s\tremaining: 458ms\n",
            "78:\tlearn: 0.3448592\ttotal: 1.64s\tremaining: 437ms\n",
            "79:\tlearn: 0.3442178\ttotal: 1.66s\tremaining: 415ms\n",
            "80:\tlearn: 0.3437287\ttotal: 1.68s\tremaining: 394ms\n",
            "81:\tlearn: 0.3434190\ttotal: 1.7s\tremaining: 374ms\n",
            "82:\tlearn: 0.3431708\ttotal: 1.73s\tremaining: 354ms\n",
            "83:\tlearn: 0.3420916\ttotal: 1.75s\tremaining: 333ms\n",
            "84:\tlearn: 0.3415994\ttotal: 1.77s\tremaining: 312ms\n",
            "85:\tlearn: 0.3410301\ttotal: 1.79s\tremaining: 291ms\n",
            "86:\tlearn: 0.3408276\ttotal: 1.81s\tremaining: 270ms\n",
            "87:\tlearn: 0.3392430\ttotal: 1.83s\tremaining: 250ms\n",
            "88:\tlearn: 0.3384960\ttotal: 1.85s\tremaining: 229ms\n",
            "89:\tlearn: 0.3378345\ttotal: 1.88s\tremaining: 208ms\n",
            "90:\tlearn: 0.3364382\ttotal: 1.9s\tremaining: 188ms\n",
            "91:\tlearn: 0.3348802\ttotal: 1.92s\tremaining: 167ms\n",
            "92:\tlearn: 0.3329443\ttotal: 1.94s\tremaining: 146ms\n",
            "93:\tlearn: 0.3323076\ttotal: 1.96s\tremaining: 125ms\n",
            "94:\tlearn: 0.3304718\ttotal: 1.98s\tremaining: 104ms\n",
            "95:\tlearn: 0.3303091\ttotal: 2s\tremaining: 83.3ms\n",
            "96:\tlearn: 0.3286836\ttotal: 2.02s\tremaining: 62.4ms\n",
            "97:\tlearn: 0.3283016\ttotal: 2.04s\tremaining: 41.6ms\n",
            "98:\tlearn: 0.3282015\ttotal: 2.06s\tremaining: 20.8ms\n",
            "99:\tlearn: 0.3280209\ttotal: 2.08s\tremaining: 0us\n"
          ],
          "name": "stdout"
        },
        {
          "output_type": "execute_result",
          "data": {
            "text/plain": [
              "GridSearchCV(cv=StratifiedKFold(n_splits=10, random_state=7, shuffle=True),\n",
              "             error_score=nan,\n",
              "             estimator=<catboost.core.CatBoostClassifier object at 0x00000206B107D828>,\n",
              "             iid='deprecated', n_jobs=-1,\n",
              "             param_grid={'iterations': [90, 100, 120], 'learning_rate': [0.1]},\n",
              "             pre_dispatch='2*n_jobs', refit=True, return_train_score=False,\n",
              "             scoring='accuracy', verbose=0)"
            ]
          },
          "metadata": {
            "tags": []
          },
          "execution_count": 72
        }
      ]
    },
    {
      "cell_type": "code",
      "metadata": {
        "id": "L2_-TYKF3oKE",
        "outputId": "37d144ad-ec52-44fd-aa8c-f3670cd0eea0"
      },
      "source": [
        "grid.best_params_"
      ],
      "execution_count": null,
      "outputs": [
        {
          "output_type": "execute_result",
          "data": {
            "text/plain": [
              "{'iterations': 100, 'learning_rate': 0.1}"
            ]
          },
          "metadata": {
            "tags": []
          },
          "execution_count": 73
        }
      ]
    },
    {
      "cell_type": "code",
      "metadata": {
        "scrolled": true,
        "id": "RUcDOYMu3oKE",
        "outputId": "9a685de2-185e-4ad2-a011-8c71533a6774"
      },
      "source": [
        "grid_pre = grid.predict(X_test)\n",
        "print(accuracy_score(y_test,grid_pre))"
      ],
      "execution_count": null,
      "outputs": [
        {
          "output_type": "stream",
          "text": [
            "0.8941176470588236\n"
          ],
          "name": "stdout"
        }
      ]
    },
    {
      "cell_type": "markdown",
      "metadata": {
        "id": "IzbNmuM23oKE"
      },
      "source": [
        "This gave a better score. You can still go retune parameter, you can have the list as [95,100,105]. Tuning is done repeatedly until you get the best score"
      ]
    },
    {
      "cell_type": "code",
      "metadata": {
        "id": "SdQkKklS3oKF",
        "outputId": "40faed97-9eeb-405a-c4bc-ea40f051f20e"
      },
      "source": [
        "'''\n",
        "import joblib\n",
        "\n",
        "with open('model.joblib', 'wb') as f:\n",
        "    joblib.dump(gb, f)\n",
        "'''"
      ],
      "execution_count": null,
      "outputs": [
        {
          "output_type": "execute_result",
          "data": {
            "text/plain": [
              "\"\\nimport joblib\\n\\nwith open('model.joblib', 'wb') as f:\\n    joblib.dump(gb, f)\\n\""
            ]
          },
          "metadata": {
            "tags": []
          },
          "execution_count": 75
        }
      ]
    },
    {
      "cell_type": "code",
      "metadata": {
        "id": "hb6nLYL83oKF"
      },
      "source": [
        ""
      ],
      "execution_count": null,
      "outputs": []
    }
  ]
}